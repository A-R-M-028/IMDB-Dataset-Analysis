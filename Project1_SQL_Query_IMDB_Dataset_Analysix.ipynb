{
  "nbformat": 4,
  "nbformat_minor": 0,
  "metadata": {
    "colab": {
      "provenance": [],
      "mount_file_id": "1WFYLWMLXQpHV9nOmrIaDlb-5175bczdf",
      "authorship_tag": "ABX9TyPekRk4RDNAgPkpXGk0UfzO",
      "include_colab_link": true
    },
    "kernelspec": {
      "name": "python3",
      "display_name": "Python 3"
    },
    "language_info": {
      "name": "python"
    }
  },
  "cells": [
    {
      "cell_type": "markdown",
      "metadata": {
        "id": "view-in-github",
        "colab_type": "text"
      },
      "source": [
        "<a href=\"https://colab.research.google.com/github/A-R-M-028/IMDB-Dataset-Analysis/blob/main/Project1_SQL_Query_IMDB_Dataset_Analysix.ipynb\" target=\"_parent\"><img src=\"https://colab.research.google.com/assets/colab-badge.svg\" alt=\"Open In Colab\"/></a>"
      ]
    },
    {
      "cell_type": "markdown",
      "source": [
        "### Dataset\n",
        "https://drive.google.com/file/d/1xRpPMZ6eD0SdoQlbhGk28k1BsKOLTe7t/view?usp=drive_link"
      ],
      "metadata": {
        "id": "BAanCf6IpkLJ"
      }
    },
    {
      "cell_type": "markdown",
      "source": [
        "# Importing the libraries"
      ],
      "metadata": {
        "id": "AzM1ye9IqGDq"
      }
    },
    {
      "cell_type": "code",
      "source": [
        "# NumPY -> To perform the Mathematical Operations\n",
        "import numpy as np\n",
        "\n",
        "# Pandas -> Data Analysis Tool (DE, DM, DC, DV)\n",
        "import pandas as pd\n",
        "\n",
        "# Matplotlib -> Data Visualisations  Tool\n",
        "import matplotlib.pyplot as plt\n",
        "\n",
        "# Seaborn -> Data Visualisations  Tool\n",
        "import seaborn as sns\n",
        "\n",
        "# ReGex -> Data Cleaning\n",
        "import re\n",
        "\n",
        "# SQLite -> Serverless Database\n",
        "import sqlite3"
      ],
      "metadata": {
        "id": "E3nKBoYFpiwI"
      },
      "execution_count": 89,
      "outputs": []
    },
    {
      "cell_type": "markdown",
      "source": [
        "# Planning/Approach"
      ],
      "metadata": {
        "id": "nHSdZ_vMsWd5"
      }
    },
    {
      "cell_type": "code",
      "source": [
        "# Step1: Connect your database or create a connection -> sqlite3.connect(database_name)\n",
        "# Step2: Use the cursor function -> database_variable.cursor()\n",
        "\n",
        "#                                              Workflow\n",
        "\n",
        "# NB -> Cursors provide a way to navigate through query results, fetching data from Database in a controlled and efficient manner\n",
        "\n",
        "# 1. You need to establish a connection to the SQLite Database by creating a connecton/connection object\n",
        "# 2. Then you need to create a cursor object using the cursor() method\n",
        "# 3. Then execute the query -> cursor_variable.execute('query')\n",
        "# 4. To fetch the data, then use fetchall() method of the cursor variable/object\n",
        "# 5. You have to create a DataFrame w.r.t the SQLite\n",
        "# 6. Data Analysis(EDA, Explatory Data Analysis) -> Data Exploration, Data Manipulation, Data Cleatning, Data Visulaization\n",
        "# 7. Conclusion at every steps"
      ],
      "metadata": {
        "id": "g36glsUGpi8l"
      },
      "execution_count": null,
      "outputs": []
    },
    {
      "cell_type": "markdown",
      "source": [
        "# Establishing the Connection to the Database"
      ],
      "metadata": {
        "id": "67fu6DJCxP0Q"
      }
    },
    {
      "cell_type": "code",
      "source": [
        "# Storing the path of dataset into a variable 'db\n",
        "db = ('/content/drive/MyDrive/Projects/movies.sqlite')\n",
        "\n",
        "# Creting a database connection object\n",
        "conn = sqlite3.connect(db)\n",
        "\n",
        "# Creating a cursor object\n",
        "cur = conn.cursor()"
      ],
      "metadata": {
        "id": "sF8KGPxrpi_U"
      },
      "execution_count": 90,
      "outputs": []
    },
    {
      "cell_type": "code",
      "source": [
        "# Fetch all the data of the movies from the movie table in the above database\n",
        "cur.execute('SELECT * FROM movies')\n",
        "\n",
        "# Creating a cursor object\n",
        "movies = cur.fetchall()"
      ],
      "metadata": {
        "id": "y_nNC4adpjCU"
      },
      "execution_count": 91,
      "outputs": []
    },
    {
      "cell_type": "code",
      "source": [
        "# Displaying all the data from movies table\n",
        "movies"
      ],
      "metadata": {
        "id": "FgMSHrsOzuxL"
      },
      "execution_count": null,
      "outputs": []
    },
    {
      "cell_type": "code",
      "source": [
        "# Creating a DataFrame\n",
        "columns= ['id', 'original_title', 'budget', 'popularity', 'release_data', 'revenue', 'title', 'vote_average', 'vote_count', 'overview', 'tagling', 'uid', 'director_id']\n",
        "movies_df = pd.DataFrame(movies, columns = columns)"
      ],
      "metadata": {
        "id": "f8XjSZrczu0F"
      },
      "execution_count": null,
      "outputs": []
    },
    {
      "cell_type": "code",
      "source": [
        "# Display the dataframe\n",
        "movies_df"
      ],
      "metadata": {
        "id": "Ueywpjhjzu2S"
      },
      "execution_count": null,
      "outputs": []
    },
    {
      "cell_type": "code",
      "source": [
        "movies_df.info()"
      ],
      "metadata": {
        "id": "fJxhCXHBzu4V",
        "colab": {
          "base_uri": "https://localhost:8080/"
        },
        "outputId": "02f98194-12f7-4c0f-fe7b-ac0dcd738519"
      },
      "execution_count": null,
      "outputs": [
        {
          "output_type": "stream",
          "name": "stdout",
          "text": [
            "<class 'pandas.core.frame.DataFrame'>\n",
            "RangeIndex: 4773 entries, 0 to 4772\n",
            "Data columns (total 13 columns):\n",
            " #   Column          Non-Null Count  Dtype  \n",
            "---  ------          --------------  -----  \n",
            " 0   id              4773 non-null   int64  \n",
            " 1   original_title  4773 non-null   object \n",
            " 2   budget          4773 non-null   int64  \n",
            " 3   popularity      4773 non-null   int64  \n",
            " 4   release_data    4773 non-null   object \n",
            " 5   revenue         4773 non-null   int64  \n",
            " 6   title           4773 non-null   object \n",
            " 7   vote_average    4773 non-null   float64\n",
            " 8   vote_count      4773 non-null   int64  \n",
            " 9   overview        4770 non-null   object \n",
            " 10  tagling         3951 non-null   object \n",
            " 11  uid             4773 non-null   int64  \n",
            " 12  director_id     4773 non-null   int64  \n",
            "dtypes: float64(1), int64(7), object(5)\n",
            "memory usage: 484.9+ KB\n"
          ]
        }
      ]
    },
    {
      "cell_type": "code",
      "source": [
        "# Fetch all the data of the directors from the directors table in the above database\n",
        "cur.execute('SELECT * FROM directors')\n",
        "\n",
        "# Creating a cursor object\n",
        "directors = cur.fetchall()"
      ],
      "metadata": {
        "id": "J8xUyla6zu7Q"
      },
      "execution_count": null,
      "outputs": []
    },
    {
      "cell_type": "code",
      "source": [
        "directors"
      ],
      "metadata": {
        "id": "Y0aW7xlazu9j"
      },
      "execution_count": null,
      "outputs": []
    },
    {
      "cell_type": "code",
      "source": [
        "# Creating a DataFrame\n",
        "directors_df = pd.DataFrame(directors, columns = ['name', 'director_id', 'gender', 'uid', 'department'])"
      ],
      "metadata": {
        "id": "A77a8GwNzvAH"
      },
      "execution_count": null,
      "outputs": []
    },
    {
      "cell_type": "code",
      "source": [
        "directors_df"
      ],
      "metadata": {
        "id": "pdnvPTrnzvCD",
        "colab": {
          "base_uri": "https://localhost:8080/",
          "height": 423
        },
        "outputId": "b1323d46-cfbf-46ca-b24c-481492ffefed"
      },
      "execution_count": null,
      "outputs": [
        {
          "output_type": "execute_result",
          "data": {
            "text/plain": [
              "                   name  director_id  gender      uid department\n",
              "0         James Cameron         4762       2     2710  Directing\n",
              "1        Gore Verbinski         4763       2     1704  Directing\n",
              "2            Sam Mendes         4764       2       39  Directing\n",
              "3     Christopher Nolan         4765       2      525  Directing\n",
              "4        Andrew Stanton         4766       2        7  Directing\n",
              "...                 ...          ...     ...      ...        ...\n",
              "2344      Shane Carruth         7106       2    76624  Directing\n",
              "2345   Neill Dela Llana         7107       0  1174437  Directing\n",
              "2346        Scott Smith         7108       0  1219158  Directing\n",
              "2347        Daniel Hsia         7109       2   208138  Directing\n",
              "2348   Brian Herzlinger         7110       2    85563  Directing\n",
              "\n",
              "[2349 rows x 5 columns]"
            ],
            "text/html": [
              "\n",
              "  <div id=\"df-821a48e5-b123-4116-b4eb-3c3f105c624b\">\n",
              "    <div class=\"colab-df-container\">\n",
              "      <div>\n",
              "<style scoped>\n",
              "    .dataframe tbody tr th:only-of-type {\n",
              "        vertical-align: middle;\n",
              "    }\n",
              "\n",
              "    .dataframe tbody tr th {\n",
              "        vertical-align: top;\n",
              "    }\n",
              "\n",
              "    .dataframe thead th {\n",
              "        text-align: right;\n",
              "    }\n",
              "</style>\n",
              "<table border=\"1\" class=\"dataframe\">\n",
              "  <thead>\n",
              "    <tr style=\"text-align: right;\">\n",
              "      <th></th>\n",
              "      <th>name</th>\n",
              "      <th>director_id</th>\n",
              "      <th>gender</th>\n",
              "      <th>uid</th>\n",
              "      <th>department</th>\n",
              "    </tr>\n",
              "  </thead>\n",
              "  <tbody>\n",
              "    <tr>\n",
              "      <th>0</th>\n",
              "      <td>James Cameron</td>\n",
              "      <td>4762</td>\n",
              "      <td>2</td>\n",
              "      <td>2710</td>\n",
              "      <td>Directing</td>\n",
              "    </tr>\n",
              "    <tr>\n",
              "      <th>1</th>\n",
              "      <td>Gore Verbinski</td>\n",
              "      <td>4763</td>\n",
              "      <td>2</td>\n",
              "      <td>1704</td>\n",
              "      <td>Directing</td>\n",
              "    </tr>\n",
              "    <tr>\n",
              "      <th>2</th>\n",
              "      <td>Sam Mendes</td>\n",
              "      <td>4764</td>\n",
              "      <td>2</td>\n",
              "      <td>39</td>\n",
              "      <td>Directing</td>\n",
              "    </tr>\n",
              "    <tr>\n",
              "      <th>3</th>\n",
              "      <td>Christopher Nolan</td>\n",
              "      <td>4765</td>\n",
              "      <td>2</td>\n",
              "      <td>525</td>\n",
              "      <td>Directing</td>\n",
              "    </tr>\n",
              "    <tr>\n",
              "      <th>4</th>\n",
              "      <td>Andrew Stanton</td>\n",
              "      <td>4766</td>\n",
              "      <td>2</td>\n",
              "      <td>7</td>\n",
              "      <td>Directing</td>\n",
              "    </tr>\n",
              "    <tr>\n",
              "      <th>...</th>\n",
              "      <td>...</td>\n",
              "      <td>...</td>\n",
              "      <td>...</td>\n",
              "      <td>...</td>\n",
              "      <td>...</td>\n",
              "    </tr>\n",
              "    <tr>\n",
              "      <th>2344</th>\n",
              "      <td>Shane Carruth</td>\n",
              "      <td>7106</td>\n",
              "      <td>2</td>\n",
              "      <td>76624</td>\n",
              "      <td>Directing</td>\n",
              "    </tr>\n",
              "    <tr>\n",
              "      <th>2345</th>\n",
              "      <td>Neill Dela Llana</td>\n",
              "      <td>7107</td>\n",
              "      <td>0</td>\n",
              "      <td>1174437</td>\n",
              "      <td>Directing</td>\n",
              "    </tr>\n",
              "    <tr>\n",
              "      <th>2346</th>\n",
              "      <td>Scott Smith</td>\n",
              "      <td>7108</td>\n",
              "      <td>0</td>\n",
              "      <td>1219158</td>\n",
              "      <td>Directing</td>\n",
              "    </tr>\n",
              "    <tr>\n",
              "      <th>2347</th>\n",
              "      <td>Daniel Hsia</td>\n",
              "      <td>7109</td>\n",
              "      <td>2</td>\n",
              "      <td>208138</td>\n",
              "      <td>Directing</td>\n",
              "    </tr>\n",
              "    <tr>\n",
              "      <th>2348</th>\n",
              "      <td>Brian Herzlinger</td>\n",
              "      <td>7110</td>\n",
              "      <td>2</td>\n",
              "      <td>85563</td>\n",
              "      <td>Directing</td>\n",
              "    </tr>\n",
              "  </tbody>\n",
              "</table>\n",
              "<p>2349 rows × 5 columns</p>\n",
              "</div>\n",
              "      <button class=\"colab-df-convert\" onclick=\"convertToInteractive('df-821a48e5-b123-4116-b4eb-3c3f105c624b')\"\n",
              "              title=\"Convert this dataframe to an interactive table.\"\n",
              "              style=\"display:none;\">\n",
              "        \n",
              "  <svg xmlns=\"http://www.w3.org/2000/svg\" height=\"24px\"viewBox=\"0 0 24 24\"\n",
              "       width=\"24px\">\n",
              "    <path d=\"M0 0h24v24H0V0z\" fill=\"none\"/>\n",
              "    <path d=\"M18.56 5.44l.94 2.06.94-2.06 2.06-.94-2.06-.94-.94-2.06-.94 2.06-2.06.94zm-11 1L8.5 8.5l.94-2.06 2.06-.94-2.06-.94L8.5 2.5l-.94 2.06-2.06.94zm10 10l.94 2.06.94-2.06 2.06-.94-2.06-.94-.94-2.06-.94 2.06-2.06.94z\"/><path d=\"M17.41 7.96l-1.37-1.37c-.4-.4-.92-.59-1.43-.59-.52 0-1.04.2-1.43.59L10.3 9.45l-7.72 7.72c-.78.78-.78 2.05 0 2.83L4 21.41c.39.39.9.59 1.41.59.51 0 1.02-.2 1.41-.59l7.78-7.78 2.81-2.81c.8-.78.8-2.07 0-2.86zM5.41 20L4 18.59l7.72-7.72 1.47 1.35L5.41 20z\"/>\n",
              "  </svg>\n",
              "      </button>\n",
              "      \n",
              "  <style>\n",
              "    .colab-df-container {\n",
              "      display:flex;\n",
              "      flex-wrap:wrap;\n",
              "      gap: 12px;\n",
              "    }\n",
              "\n",
              "    .colab-df-convert {\n",
              "      background-color: #E8F0FE;\n",
              "      border: none;\n",
              "      border-radius: 50%;\n",
              "      cursor: pointer;\n",
              "      display: none;\n",
              "      fill: #1967D2;\n",
              "      height: 32px;\n",
              "      padding: 0 0 0 0;\n",
              "      width: 32px;\n",
              "    }\n",
              "\n",
              "    .colab-df-convert:hover {\n",
              "      background-color: #E2EBFA;\n",
              "      box-shadow: 0px 1px 2px rgba(60, 64, 67, 0.3), 0px 1px 3px 1px rgba(60, 64, 67, 0.15);\n",
              "      fill: #174EA6;\n",
              "    }\n",
              "\n",
              "    [theme=dark] .colab-df-convert {\n",
              "      background-color: #3B4455;\n",
              "      fill: #D2E3FC;\n",
              "    }\n",
              "\n",
              "    [theme=dark] .colab-df-convert:hover {\n",
              "      background-color: #434B5C;\n",
              "      box-shadow: 0px 1px 3px 1px rgba(0, 0, 0, 0.15);\n",
              "      filter: drop-shadow(0px 1px 2px rgba(0, 0, 0, 0.3));\n",
              "      fill: #FFFFFF;\n",
              "    }\n",
              "  </style>\n",
              "\n",
              "      <script>\n",
              "        const buttonEl =\n",
              "          document.querySelector('#df-821a48e5-b123-4116-b4eb-3c3f105c624b button.colab-df-convert');\n",
              "        buttonEl.style.display =\n",
              "          google.colab.kernel.accessAllowed ? 'block' : 'none';\n",
              "\n",
              "        async function convertToInteractive(key) {\n",
              "          const element = document.querySelector('#df-821a48e5-b123-4116-b4eb-3c3f105c624b');\n",
              "          const dataTable =\n",
              "            await google.colab.kernel.invokeFunction('convertToInteractive',\n",
              "                                                     [key], {});\n",
              "          if (!dataTable) return;\n",
              "\n",
              "          const docLinkHtml = 'Like what you see? Visit the ' +\n",
              "            '<a target=\"_blank\" href=https://colab.research.google.com/notebooks/data_table.ipynb>data table notebook</a>'\n",
              "            + ' to learn more about interactive tables.';\n",
              "          element.innerHTML = '';\n",
              "          dataTable['output_type'] = 'display_data';\n",
              "          await google.colab.output.renderOutput(dataTable, element);\n",
              "          const docLink = document.createElement('div');\n",
              "          docLink.innerHTML = docLinkHtml;\n",
              "          element.appendChild(docLink);\n",
              "        }\n",
              "      </script>\n",
              "    </div>\n",
              "  </div>\n",
              "  "
            ]
          },
          "metadata": {},
          "execution_count": 12
        }
      ]
    },
    {
      "cell_type": "code",
      "source": [
        "directors_df.info()"
      ],
      "metadata": {
        "id": "AI13naq9zvEa",
        "colab": {
          "base_uri": "https://localhost:8080/"
        },
        "outputId": "45275ce0-f491-4717-8812-4e9783b2c329"
      },
      "execution_count": null,
      "outputs": [
        {
          "output_type": "stream",
          "name": "stdout",
          "text": [
            "<class 'pandas.core.frame.DataFrame'>\n",
            "RangeIndex: 2349 entries, 0 to 2348\n",
            "Data columns (total 5 columns):\n",
            " #   Column       Non-Null Count  Dtype \n",
            "---  ------       --------------  ----- \n",
            " 0   name         2349 non-null   object\n",
            " 1   director_id  2349 non-null   int64 \n",
            " 2   gender       2349 non-null   int64 \n",
            " 3   uid          2349 non-null   int64 \n",
            " 4   department   2349 non-null   object\n",
            "dtypes: int64(3), object(2)\n",
            "memory usage: 91.9+ KB\n"
          ]
        }
      ]
    },
    {
      "cell_type": "code",
      "source": [
        "movies_df.shape"
      ],
      "metadata": {
        "colab": {
          "base_uri": "https://localhost:8080/"
        },
        "id": "hNcj-1HmpjHC",
        "outputId": "591d283a-9019-490f-a6be-3374223759cd"
      },
      "execution_count": null,
      "outputs": [
        {
          "output_type": "execute_result",
          "data": {
            "text/plain": [
              "(4773, 13)"
            ]
          },
          "metadata": {},
          "execution_count": 14
        }
      ]
    },
    {
      "cell_type": "code",
      "source": [
        "directors_df.shape"
      ],
      "metadata": {
        "colab": {
          "base_uri": "https://localhost:8080/"
        },
        "id": "KhdF4IHWpjJu",
        "outputId": "20a520ac-e4f1-408f-aebe-bed4231065d4"
      },
      "execution_count": null,
      "outputs": [
        {
          "output_type": "execute_result",
          "data": {
            "text/plain": [
              "(2349, 5)"
            ]
          },
          "metadata": {},
          "execution_count": 15
        }
      ]
    },
    {
      "cell_type": "code",
      "source": [
        "movies_df.describe()"
      ],
      "metadata": {
        "id": "Ab6CB9Y492vo"
      },
      "execution_count": null,
      "outputs": []
    },
    {
      "cell_type": "markdown",
      "source": [
        "## Q1: How many movies are present in the movies table?"
      ],
      "metadata": {
        "id": "QwfS57Xg-vFI"
      }
    },
    {
      "cell_type": "code",
      "source": [
        "movies_df.columns"
      ],
      "metadata": {
        "colab": {
          "base_uri": "https://localhost:8080/"
        },
        "id": "WGj3mfnU92y_",
        "outputId": "7ddb3fa4-4f3c-466d-df5b-2787510aa4e3"
      },
      "execution_count": null,
      "outputs": [
        {
          "output_type": "execute_result",
          "data": {
            "text/plain": [
              "Index(['id', 'original_title', 'budget', 'popularity', 'release_data',\n",
              "       'revenue', 'title', 'vote_average', 'vote_count', 'overview', 'tagling',\n",
              "       'uid', 'director_id'],\n",
              "      dtype='object')"
            ]
          },
          "metadata": {},
          "execution_count": 17
        }
      ]
    },
    {
      "cell_type": "code",
      "source": [
        "cur.execute('SELECT COUNT(id) FROM movies')\n",
        "count = cur.fetchall()\n",
        "print(f'The number of movies availabe in the movies table {count[0][0]}')"
      ],
      "metadata": {
        "colab": {
          "base_uri": "https://localhost:8080/"
        },
        "id": "ijZWtIMv922v",
        "outputId": "99fb54d0-e77b-45b9-dfe2-93fc1878f01a"
      },
      "execution_count": null,
      "outputs": [
        {
          "output_type": "stream",
          "name": "stdout",
          "text": [
            "The number of movies availabe in the movies table 4773\n"
          ]
        }
      ]
    },
    {
      "cell_type": "code",
      "source": [
        "# OR -> Error\n",
        "query = cur.execute('SELECT COUNT(id) FROM movies')\n",
        "count = cur.fetchall(query)\n",
        "print(f'The number of movies availabe in the movies table {count[0][0]}')"
      ],
      "metadata": {
        "id": "VJnpjv0Luga2",
        "colab": {
          "base_uri": "https://localhost:8080/"
        },
        "outputId": "7f1bad54-55cf-4efd-f7ad-5ba8a4026297"
      },
      "execution_count": null,
      "outputs": [
        {
          "output_type": "stream",
          "name": "stdout",
          "text": [
            "The number of movies availabe in the movies table 4773\n"
          ]
        }
      ]
    },
    {
      "cell_type": "code",
      "source": [
        "# Accessing [List[] [tuple] -> Particular value\n",
        "count[0][0]"
      ],
      "metadata": {
        "colab": {
          "base_uri": "https://localhost:8080/"
        },
        "id": "UvGU0MXs9254",
        "outputId": "4bf69efa-890b-4416-820c-1258d8bcec4b"
      },
      "execution_count": null,
      "outputs": [
        {
          "output_type": "execute_result",
          "data": {
            "text/plain": [
              "4773"
            ]
          },
          "metadata": {},
          "execution_count": 41
        }
      ]
    },
    {
      "cell_type": "markdown",
      "source": [
        "## Q2: Find out these three directors ->\n",
        "1. James Cameron\n",
        "2. Luc Besson\n",
        "3. John Woo"
      ],
      "metadata": {
        "id": "kOjPvPJqDolP"
      }
    },
    {
      "cell_type": "code",
      "source": [
        "# \"SELECT * FROM directors WHERE name = 'James Cameron' OR name = 'Luc Besson' OR name = 'John Woo'\"\n",
        "cur.execute(\"SELECT * FROM directors WHERE name IN ('James Cameron', 'Luc Besson', 'John Woo')\")\n",
        "three_directors = cur.fetchall()\n",
        "print(f'Here are the ifno for the asked directors {three_directors}')"
      ],
      "metadata": {
        "colab": {
          "base_uri": "https://localhost:8080/"
        },
        "id": "SlT1CeBr928O",
        "outputId": "b67d9415-862c-44bd-85b5-19db7908cbb6"
      },
      "execution_count": null,
      "outputs": [
        {
          "output_type": "stream",
          "name": "stdout",
          "text": [
            "Here are the ifno for the asked directors [('James Cameron', 4762, 2, 2710, 'Directing'), ('John Woo', 4893, 2, 11401, 'Directing'), ('Luc Besson', 4949, 2, 59, 'Directing')]\n"
          ]
        }
      ]
    },
    {
      "cell_type": "markdown",
      "source": [
        "## Q3: Find all the directors with the name starting with 'Steven'"
      ],
      "metadata": {
        "id": "pdeD-nfZICeK"
      }
    },
    {
      "cell_type": "code",
      "source": [
        "cur.execute(\"SELECT * FROM directors WHERE name LIKE 'steven%'\")\n",
        "directors = cur.fetchall()\n",
        "print(f'Here are the ifno for the asked directors {directors}')"
      ],
      "metadata": {
        "colab": {
          "base_uri": "https://localhost:8080/"
        },
        "id": "7E1rm2Ac92-_",
        "outputId": "3352ab2a-42bf-44b9-b8f9-d09411cc4aad"
      },
      "execution_count": null,
      "outputs": [
        {
          "output_type": "stream",
          "name": "stdout",
          "text": [
            "Here are the ifno for the asked directors [('Steven Spielberg', 4799, 2, 488, 'Directing'), ('Steven Soderbergh', 4909, 2, 1884, 'Directing'), ('Steven Brill', 5013, 2, 32593, 'Directing'), ('Steven Zaillian', 5117, 2, 2260, 'Directing'), ('Steven Quale', 5216, 2, 93214, 'Directing'), ('Steven Seagal', 5221, 2, 23880, 'Directing'), ('Steven E. de Souza', 5390, 2, 1726, 'Directing'), ('Steven Shainberg', 5803, 2, 67795, 'Directing'), ('Steven R. Monroe', 6713, 2, 88039, 'Directing')]\n"
          ]
        }
      ]
    },
    {
      "cell_type": "markdown",
      "source": [
        "## Q4: Count all the female directors\n",
        "* Hints: gender =1"
      ],
      "metadata": {
        "id": "Fp57P62dJ_Xf"
      }
    },
    {
      "cell_type": "code",
      "source": [
        "directors_df.columns"
      ],
      "metadata": {
        "colab": {
          "base_uri": "https://localhost:8080/"
        },
        "id": "JVcOpJhJ93Bt",
        "outputId": "e5c38b23-b9b5-48ff-a8cf-51778b6fc466"
      },
      "execution_count": null,
      "outputs": [
        {
          "output_type": "execute_result",
          "data": {
            "text/plain": [
              "Index(['name', 'director_id', 'gender', 'uid', 'department'], dtype='object')"
            ]
          },
          "metadata": {},
          "execution_count": 27
        }
      ]
    },
    {
      "cell_type": "code",
      "source": [
        "# id OR ANY -> 'name', 'director_id', 'gender', 'uid', 'department'\n",
        "cur.execute('SELECT COUNT(id) FROM directors WHERE gender = 1')\n",
        "female_directors = cur.fetchall()\n",
        "print(f'Here are the ifno for the asked directors {female_directors[0][0]}')"
      ],
      "metadata": {
        "colab": {
          "base_uri": "https://localhost:8080/"
        },
        "id": "2wTGh1Fs93ES",
        "outputId": "3453b940-a26b-47ac-e042-c5607123c402"
      },
      "execution_count": null,
      "outputs": [
        {
          "output_type": "stream",
          "name": "stdout",
          "text": [
            "Here are the ifno for the asked directors 150\n"
          ]
        }
      ]
    },
    {
      "cell_type": "markdown",
      "source": [
        "* Conclusion -> There are 150 female directors in the directors section"
      ],
      "metadata": {
        "id": "IbBeJYVeLiLh"
      }
    },
    {
      "cell_type": "markdown",
      "source": [
        "## Q5: Find the name of the  10th first female directors"
      ],
      "metadata": {
        "id": "wBe2sNHQL4bM"
      }
    },
    {
      "cell_type": "code",
      "source": [
        "cur.execute('SELECT name FROM directors where gender = 1')\n",
        "tenth_female_director = cur.fetchall()\n",
        "print(f'Here are the all female directors {tenth_female_director}')\n",
        "# All data given List of tuples [(), () .....]\n",
        "print(f'Here are the 10th first female directors {tenth_female_director[9][0]}')"
      ],
      "metadata": {
        "colab": {
          "base_uri": "https://localhost:8080/"
        },
        "id": "n5UxRY0K93Hg",
        "outputId": "2fb47534-bb5a-4f40-ee4d-2d180d45e425"
      },
      "execution_count": null,
      "outputs": [
        {
          "output_type": "stream",
          "name": "stdout",
          "text": [
            "Here are the all female directors [('Brenda Chapman',), ('Lilly Wachowski',), ('Jennifer Yuh Nelson',), ('Kathryn Bigelow',), ('Nancy Meyers',), ('Jill Culton',), ('Mimi Leder',), ('Vicky Jenson',), ('Betty Thomas',), ('Angelina Jolie',), ('Karyn Kusama',), ('Phyllida Lloyd',), ('Angela Robinson',), ('Beeban Kidron',), ('Deepa Mehta',), ('Penny Marshall',), ('Julie Taymor',), ('Susan Stroman',), ('Catherine Hardwicke',), ('Julie Anne Robinson',), ('Anne Fletcher',), ('Sam Taylor-Johnson',), ('Joan Chen',), ('Diane Keaton',), ('Sofia Coppola',), ('Elaine May',), ('Dennie Gordon',), ('Jennifer Flackett',), ('Nanette Burstein',), ('Liz Friedlander',), ('Martha Coolidge',), ('Niki Caro',), ('Liliana Cavani',), ('Elizabeth Banks',), ('Callie Khouri',), ('Sanaa Hamri',), ('Jodie Foster',), ('Sharon Maguire',), ('Cathy Malkasian',), ('Kirsten Sheridan',), ('Rachel Talalay',), ('Inna Evlannikova',), ('Bonnie Hunt',), ('Mary McGuckian',), ('Anne Fontaine',), ('Mira Nair',), ('Jessie Nelson',), ('Deborah Kaplan',), ('Katt Shea',), ('Thea Sharrock',), ('Ava DuVernay',), ('Jun Falkenstein',), ('Jessica Bendinger',), ('Amy Heckerling',), ('Nancy Walker',), ('Audrey Wells',), ('Kasi Lemmons',), ('Andrea Di Stefano',), ('Diane English',), ('Clare Kilner',), ('Susanne Bier',), ('Gillian Armstrong',), ('Sara Sugarman',), ('Gina Prince-Bythewood',), ('Elizabeth Allen Rosenbaum',), ('Lone Scherfig',), ('Drew Barrymore',), ('Mary Lambert',), ('Katja von Garnier',), ('Bronwen Hughes',), ('Daisy von Scherler Mayer',), ('Isabel Coixet',), ('Tamra Davis',), ('Darnell Martin',), ('Jane Campion',), ('Antonia Bird',), ('Agnieszka Holland',), ('Lisa Azuelos',), ('Léa Pool',), ('Patricia Rozema',), ('Lorene Scafaria',), ('Katherine Dieckmann',), ('Kari Skogland',), ('Gurinder Chadha',), ('Emily Young',), ('Maïwenn',), ('Mary Harron',), ('Nicole Holofcener',), ('Fina Torres',), ('Coky Giedroyc',), ('Claudia Llosa',), ('Sharron Miller',), ('Lynne Ramsay',), ('Shari Springer Berman',), ('Rachel Perkins',), ('Caroline Link',), ('Risa Bramon Garcia',), ('Deb Hagan',), ('Joey Lauren Adams',), ('Liv Ullmann',), ('Patty Jenkins',), ('Christine Jeffs',), ('Marcia Bennett',), ('Gabriela Tagliavini',), ('Agnieszka Wojtowicz-Vosloo',), ('Lisa Cholodenko',), ('Allison Anders',), ('Ruba Nadda',), ('Amanda Gusack',), ('Karen Moncrieff',), ('Nnegest Likké',), ('Jill Sprecher',), ('Andrea Arnold',), ('Francesca Gregorini',), ('Alison Maclean',), ('Alice Wu',), ('Hayley Cloake',), ('Debra Granik',), ('Miranda July',), ('Marielle Heller',), ('Kelly Reichardt',), ('Jehane Noujaim',), ('Vera Farmiga',), ('Sally Potter',), ('Nadine Labaki',), ('Adrienne Shelly',), ('Rebecca Miller',), ('Tara Subkoff',), ('Jamie Babbit',), ('Anna Muylaert',), ('Mona Lerche',), ('Gillian Robespierre',), ('Courtney Hunt',), ('Katherine Brooks',), ('Mary Pat Kelly',), ('Lori Petty',), ('Katie Aselton',), ('Allison Burnett',), ('Maryam Keshavarz',), ('Catherine Jelski',), ('Amy Holden Jones',), ('Marilyn Agrelo',), ('Neema Barnette',), ('Maria Maggenti',), ('Hilary Brougher',), ('Marianna Palka',), ('Ricki Stern',), ('Lynn Shelton',), ('Julie Davis',), ('Lena Dunham',)]\n",
            "Here are the 10th first female directors Angelina Jolie\n"
          ]
        }
      ]
    },
    {
      "cell_type": "markdown",
      "source": [
        "## Q6: Find the top 3 most popular movies"
      ],
      "metadata": {
        "id": "OoNmnbu9Rh5t"
      }
    },
    {
      "cell_type": "code",
      "source": [
        "movies_df.columns"
      ],
      "metadata": {
        "colab": {
          "base_uri": "https://localhost:8080/"
        },
        "id": "ufy568AVRuto",
        "outputId": "3f836380-75f5-47a4-cf79-64343ec456ed"
      },
      "execution_count": null,
      "outputs": [
        {
          "output_type": "execute_result",
          "data": {
            "text/plain": [
              "Index(['id', 'original_title', 'budget', 'popularity', 'release_data',\n",
              "       'revenue', 'title', 'vote_average', 'vote_count', 'overview', 'tagling',\n",
              "       'uid', 'director_id'],\n",
              "      dtype='object')"
            ]
          },
          "metadata": {},
          "execution_count": 66
        }
      ]
    },
    {
      "cell_type": "code",
      "source": [
        "cur.execute('SELECT popularity FROM movies')\n",
        "top_three_movies= cur.fetchall()\n",
        "print(f'Top three movies {top_three_movies}')"
      ],
      "metadata": {
        "colab": {
          "base_uri": "https://localhost:8080/"
        },
        "id": "bZitTHnSbLrc",
        "outputId": "c5cd508b-17eb-4bc4-fee3-1aa692419d6a"
      },
      "execution_count": null,
      "outputs": [
        {
          "output_type": "stream",
          "name": "stdout",
          "text": [
            "Top three movies [(150,), (139,), (107,), (112,), (43,), (115,), (48,), (134,), (98,), (155,), (57,), (107,), (145,), (49,), (99,), (53,), (144,), (135,), (52,), (120,), (89,), (37,), (94,), (42,), (61,), (100,), (198,), (64,), (418,), (93,), (35,), (77,), (78,), (3,), (89,), (21,), (116,), (46,), (89,), (73,), (49,), (51,), (59,), (71,), (102,), (81,), (118,), (78,), (43,), (61,), (62,), (56,), (28,), (75,), (51,), (125,), (65,), (66,), (22,), (45,), (39,), (85,), (42,), (67,), (139,), (187,), (92,), (36,), (120,), (32,), (40,), (60,), (90,), (27,), (79,), (44,), (32,), (128,), (94,), (77,), (77,), (110,), (243,), (2,), (41,), (72,), (44,), (130,), (203,), (62,), (47,), (48,), (67,), (69,), (481,), (724,), (167,), (9,), (108,), (6,), (60,), (3,), (127,), (35,), (21,), (56,), (42,), (63,), (202,), (49,), (34,), (25,), (39,), (78,), (101,), (56,), (70,), (53,), (65,), (115,), (44,), (81,), (5,), (73,), (165,), (70,), (99,), (434,), (67,), (86,), (41,), (26,), (44,), (50,), (114,), (21,), (29,), (51,), (33,), (63,), (39,), (12,), (22,), (48,), (38,), (66,), (44,), (54,), (66,), (58,), (91,), (35,), (56,), (77,), (61,), (25,), (52,), (101,), (73,), (82,), (100,), (56,), (17,), (64,), (24,), (34,), (59,), (21,), (26,), (74,), (39,), (36,), (99,), (17,), (62,), (44,), (100,), (44,), (29,), (84,), (45,), (84,), (120,), (76,), (63,), (48,), (38,), (20,), (48,), (46,), (89,), (79,), (28,), (42,), (26,), (115,), (68,), (109,), (39,), (271,), (206,), (45,), (42,), (2,), (7,), (81,), (47,), (43,), (27,), (90,), (50,), (45,), (41,), (54,), (25,), (60,), (51,), (46,), (62,), (33,), (68,), (27,), (67,), (27,), (66,), (17,), (11,), (44,), (67,), (44,), (43,), (106,), (15,), (54,), (64,), (20,), (18,), (60,), (143,), (110,), (16,), (39,), (38,), (48,), (100,), (42,), (23,), (76,), (44,), (103,), (45,), (22,), (31,), (71,), (36,), (19,), (86,), (37,), (32,), (23,), (45,), (48,), (138,), (22,), (18,), (18,), (95,), (44,), (30,), (62,), (167,), (37,), (1,), (52,), (95,), (65,), (132,), (88,), (51,), (101,), (33,), (42,), (38,), (40,), (32,), (24,), (24,), (82,), (46,), (51,), (53,), (58,), (30,), (31,), (36,), (41,), (20,), (52,), (95,), (48,), (58,), (73,), (37,), (32,), (76,), (38,), (19,), (61,), (33,), (17,), (50,), (12,), (30,), (34,), (3,), (41,), (46,), (12,), (23,), (19,), (44,), (16,), (109,), (18,), (37,), (65,), (101,), (29,), (85,), (123,), (106,), (63,), (41,), (58,), (1,), (138,), (21,), (65,), (10,), (77,), (7,), (61,), (104,), (73,), (37,), (35,), (15,), (46,), (69,), (43,), (40,), (63,), (67,), (43,), (47,), (51,), (57,), (29,), (51,), (27,), (38,), (40,), (140,), (34,), (16,), (55,), (28,), (18,), (40,), (56,), (51,), (20,), (27,), (16,), (46,), (24,), (19,), (15,), (15,), (31,), (24,), (3,), (14,), (32,), (57,), (37,), (53,), (36,), (60,), (36,), (56,), (29,), (34,), (9,), (36,), (44,), (41,), (16,), (42,), (26,), (80,), (41,), (24,), (32,), (16,), (8,), (19,), (36,), (18,), (5,), (48,), (38,), (29,), (17,), (31,), (57,), (41,), (13,), (11,), (21,), (58,), (51,), (18,), (109,), (77,), (75,), (68,), (58,), (59,), (36,), (55,), (14,), (34,), (44,), (26,), (23,), (45,), (23,), (16,), (81,), (19,), (29,), (46,), (23,), (49,), (37,), (45,), (46,), (24,), (32,), (11,), (19,), (36,), (25,), (41,), (22,), (139,), (18,), (11,), (41,), (27,), (17,), (21,), (0,), (61,), (14,), (25,), (6,), (36,), (31,), (21,), (18,), (40,), (44,), (3,), (20,), (36,), (18,), (16,), (10,), (7,), (16,), (9,), (11,), (14,), (11,), (52,), (13,), (27,), (10,), (7,), (50,), (0,), (59,), (90,), (40,), (41,), (10,), (16,), (22,), (10,), (35,), (15,), (8,), (31,), (47,), (136,), (60,), (2,), (48,), (35,), (4,), (73,), (51,), (85,), (61,), (31,), (15,), (17,), (71,), (38,), (57,), (13,), (13,), (18,), (47,), (14,), (18,), (29,), (27,), (23,), (48,), (14,), (36,), (24,), (19,), (13,), (37,), (23,), (14,), (10,), (11,), (12,), (8,), (20,), (42,), (875,), (39,), (20,), (18,), (45,), (21,), (20,), (26,), (12,), (13,), (60,), (32,), (46,), (11,), (8,), (8,), (27,), (21,), (28,), (47,), (82,), (20,), (46,), (36,), (16,), (72,), (33,), (57,), (34,), (27,), (20,), (42,), (29,), (19,), (59,), (19,), (49,), (46,), (13,), (29,), (43,), (24,), (23,), (64,), (20,), (48,), (16,), (14,), (14,), (29,), (13,), (58,), (23,), (14,), (29,), (9,), (8,), (10,), (10,), (6,), (46,), (24,), (13,), (44,), (25,), (22,), (107,), (22,), (113,), (10,), (68,), (18,), (12,), (27,), (26,), (28,), (37,), (11,), (38,), (25,), (18,), (12,), (76,), (54,), (31,), (99,), (26,), (36,), (104,), (68,), (14,), (48,), (28,), (22,), (31,), (43,), (43,), (15,), (26,), (22,), (18,), (24,), (19,), (31,), (27,), (33,), (59,), (38,), (49,), (11,), (9,), (6,), (42,), (15,), (14,), (15,), (146,), (8,), (16,), (2,), (31,), (20,), (28,), (85,), (4,), (60,), (42,), (40,), (24,), (40,), (13,), (18,), (9,), (12,), (18,), (11,), (13,), (11,), (68,), (19,), (16,), (65,), (32,), (30,), (103,), (31,), (47,), (143,), (86,), (59,), (18,), (56,), (29,), (18,), (42,), (18,), (62,), (24,), (41,), (26,), (16,), (18,), (113,), (28,), (19,), (41,), (23,), (12,), (44,), (37,), (10,), (56,), (22,), (15,), (38,), (10,), (51,), (20,), (45,), (4,), (28,), (22,), (47,), (10,), (39,), (19,), (29,), (4,), (16,), (21,), (13,), (42,), (29,), (61,), (37,), (37,), (30,), (15,), (59,), (19,), (27,), (29,), (25,), (23,), (21,), (13,), (6,), (15,), (23,), (21,), (22,), (18,), (24,), (12,), (21,), (18,), (18,), (17,), (16,), (21,), (16,), (36,), (28,), (18,), (29,), (8,), (15,), (13,), (15,), (5,), (22,), (45,), (18,), (14,), (14,), (27,), (14,), (52,), (15,), (6,), (4,), (8,), (514,), (9,), (87,), (45,), (13,), (6,), (31,), (7,), (19,), (14,), (1,), (2,), (12,), (33,), (21,), (31,), (14,), (48,), (9,), (35,), (23,), (138,), (47,), (29,), (47,), (48,), (20,), (34,), (22,), (36,), (52,), (38,), (19,), (79,), (19,), (20,), (80,), (32,), (15,), (21,), (79,), (13,), (50,), (22,), (29,), (25,), (17,), (32,), (17,), (14,), (45,), (7,), (32,), (12,), (39,), (39,), (8,), (7,), (8,), (10,), (23,), (27,), (20,), (4,), (18,), (15,), (29,), (4,), (4,), (12,), (14,), (9,), (22,), (23,), (23,), (12,), (67,), (41,), (22,), (59,), (22,), (18,), (30,), (9,), (7,), (19,), (45,), (57,), (8,), (46,), (23,), (49,), (16,), (1,), (6,), (73,), (38,), (26,), (30,), (25,), (15,), (40,), (32,), (24,), (40,), (27,), (15,), (39,), (10,), (5,), (94,), (67,), (26,), (28,), (27,), (68,), (37,), (35,), (38,), (18,), (37,), (30,), (23,), (52,), (50,), (43,), (45,), (16,), (38,), (65,), (45,), (17,), (10,), (38,), (32,), (18,), (32,), (37,), (17,), (9,), (46,), (30,), (83,), (23,), (84,), (16,), (9,), (12,), (11,), (53,), (14,), (43,), (16,), (42,), (34,), (18,), (13,), (19,), (62,), (32,), (14,), (39,), (28,), (20,), (20,), (33,), (42,), (15,), (29,), (28,), (14,), (9,), (12,), (41,), (13,), (19,), (9,), (11,), (12,), (13,), (16,), (23,), (6,), (6,), (42,), (19,), (10,), (13,), (21,), (61,), (25,), (21,), (22,), (6,), (74,), (35,), (14,), (21,), (21,), (19,), (3,), (21,), (7,), (12,), (18,), (8,), (27,), (40,), (11,), (37,), (6,), (2,), (30,), (8,), (21,), (2,), (31,), (25,), (80,), (26,), (116,), (33,), (53,), (0,), (34,), (40,), (18,), (30,), (11,), (19,), (8,), (48,), (88,), (16,), (19,), (1,), (7,), (18,), (7,), (63,), (24,), (10,), (6,), (15,), (10,), (41,), (25,), (22,), (12,), (26,), (24,), (0,), (28,), (49,), (36,), (32,), (53,), (30,), (17,), (17,), (31,), (19,), (10,), (88,), (52,), (30,), (35,), (17,), (43,), (23,), (17,), (27,), (26,), (37,), (87,), (26,), (16,), (10,), (2,), (8,), (51,), (7,), (12,), (44,), (6,), (12,), (11,), (31,), (24,), (28,), (20,), (25,), (11,), (20,), (32,), (27,), (6,), (11,), (13,), (12,), (6,), (9,), (7,), (3,), (21,), (6,), (11,), (9,), (14,), (5,), (5,), (3,), (35,), (5,), (62,), (54,), (33,), (16,), (38,), (3,), (46,), (5,), (49,), (24,), (19,), (5,), (25,), (18,), (23,), (21,), (44,), (62,), (28,), (31,), (33,), (6,), (37,), (13,), (26,), (14,), (3,), (14,), (16,), (28,), (45,), (15,), (14,), (34,), (23,), (19,), (74,), (7,), (7,), (32,), (5,), (36,), (14,), (73,), (34,), (9,), (28,), (49,), (36,), (19,), (43,), (115,), (98,), (21,), (25,), (26,), (37,), (21,), (68,), (69,), (26,), (32,), (24,), (45,), (36,), (45,), (22,), (31,), (31,), (67,), (24,), (53,), (25,), (37,), (21,), (66,), (24,), (25,), (29,), (26,), (17,), (21,), (52,), (34,), (32,), (48,), (24,), (17,), (14,), (23,), (19,), (26,), (26,), (38,), (74,), (82,), (18,), (41,), (23,), (47,), (7,), (32,), (29,), (29,), (16,), (19,), (14,), (12,), (27,), (3,), (7,), (39,), (14,), (8,), (17,), (43,), (15,), (35,), (25,), (10,), (72,), (3,), (38,), (6,), (24,), (9,), (15,), (32,), (8,), (31,), (22,), (12,), (7,), (10,), (3,), (4,), (13,), (3,), (22,), (19,), (13,), (17,), (4,), (33,), (16,), (3,), (5,), (7,), (3,), (14,), (22,), (6,), (4,), (47,), (2,), (41,), (8,), (7,), (73,), (10,), (15,), (8,), (4,), (6,), (16,), (15,), (5,), (1,), (14,), (28,), (9,), (2,), (10,), (51,), (13,), (4,), (26,), (16,), (31,), (17,), (8,), (14,), (6,), (8,), (64,), (17,), (6,), (44,), (16,), (37,), (18,), (27,), (45,), (2,), (22,), (21,), (14,), (18,), (22,), (5,), (24,), (14,), (19,), (16,), (5,), (20,), (11,), (13,), (41,), (6,), (5,), (30,), (3,), (11,), (18,), (10,), (52,), (46,), (4,), (5,), (23,), (25,), (6,), (3,), (57,), (57,), (24,), (27,), (31,), (14,), (33,), (30,), (25,), (46,), (6,), (127,), (27,), (16,), (100,), (2,), (9,), (23,), (33,), (6,), (11,), (19,), (29,), (8,), (2,), (11,), (70,), (1,), (6,), (3,), (82,), (19,), (18,), (44,), (6,), (36,), (25,), (21,), (50,), (49,), (83,), (24,), (34,), (27,), (45,), (72,), (3,), (29,), (24,), (11,), (11,), (23,), (38,), (25,), (28,), (9,), (18,), (9,), (40,), (50,), (31,), (19,), (38,), (13,), (51,), (14,), (6,), (11,), (40,), (40,), (36,), (23,), (25,), (60,), (18,), (14,), (15,), (6,), (19,), (50,), (3,), (17,), (22,), (28,), (19,), (11,), (27,), (12,), (8,), (12,), (14,), (14,), (5,), (15,), (23,), (5,), (25,), (22,), (35,), (19,), (14,), (9,), (19,), (29,), (11,), (17,), (18,), (10,), (28,), (16,), (13,), (9,), (9,), (9,), (6,), (10,), (11,), (6,), (16,), (14,), (43,), (2,), (27,), (3,), (17,), (10,), (37,), (0,), (16,), (3,), (9,), (5,), (9,), (2,), (2,), (5,), (13,), (20,), (0,), (131,), (16,), (9,), (24,), (3,), (16,), (39,), (41,), (20,), (1,), (17,), (15,), (4,), (40,), (12,), (24,), (12,), (23,), (29,), (19,), (7,), (35,), (16,), (31,), (9,), (46,), (21,), (33,), (20,), (16,), (15,), (13,), (21,), (14,), (17,), (38,), (14,), (24,), (18,), (18,), (15,), (59,), (14,), (23,), (10,), (10,), (6,), (34,), (47,), (16,), (6,), (15,), (25,), (4,), (3,), (26,), (4,), (4,), (5,), (4,), (49,), (13,), (6,), (27,), (13,), (42,), (29,), (74,), (7,), (15,), (19,), (47,), (15,), (32,), (34,), (36,), (73,), (49,), (26,), (6,), (25,), (46,), (32,), (41,), (37,), (34,), (40,), (10,), (79,), (63,), (27,), (31,), (70,), (29,), (55,), (30,), (13,), (4,), (3,), (26,), (33,), (19,), (43,), (46,), (9,), (34,), (12,), (50,), (24,), (11,), (7,), (33,), (8,), (41,), (43,), (18,), (28,), (10,), (19,), (5,), (28,), (27,), (30,), (29,), (8,), (33,), (16,), (11,), (14,), (43,), (8,), (55,), (65,), (45,), (82,), (15,), (25,), (11,), (32,), (33,), (73,), (10,), (12,), (30,), (12,), (31,), (11,), (20,), (63,), (8,), (9,), (7,), (55,), (48,), (17,), (19,), (15,), (4,), (13,), (2,), (5,), (20,), (29,), (20,), (6,), (27,), (2,), (34,), (15,), (18,), (9,), (2,), (17,), (20,), (16,), (12,), (14,), (23,), (11,), (10,), (10,), (4,), (9,), (18,), (19,), (5,), (3,), (21,), (43,), (12,), (3,), (10,), (6,), (37,), (4,), (22,), (8,), (16,), (49,), (29,), (12,), (2,), (3,), (8,), (3,), (12,), (35,), (4,), (20,), (48,), (13,), (8,), (12,), (6,), (10,), (2,), (2,), (66,), (71,), (35,), (8,), (10,), (16,), (18,), (8,), (20,), (3,), (4,), (12,), (24,), (92,), (61,), (66,), (7,), (21,), (19,), (27,), (66,), (24,), (57,), (11,), (7,), (44,), (14,), (14,), (24,), (45,), (28,), (26,), (14,), (13,), (38,), (37,), (18,), (15,), (45,), (25,), (6,), (22,), (36,), (94,), (10,), (41,), (14,), (3,), (3,), (22,), (4,), (14,), (1,), (13,), (12,), (28,), (7,), (16,), (40,), (6,), (25,), (25,), (22,), (24,), (6,), (9,), (12,), (12,), (16,), (5,), (18,), (44,), (11,), (5,), (28,), (11,), (36,), (17,), (16,), (47,), (39,), (18,), (5,), (3,), (23,), (8,), (5,), (14,), (38,), (9,), (5,), (17,), (8,), (2,), (0,), (31,), (24,), (38,), (31,), (61,), (5,), (41,), (21,), (19,), (24,), (20,), (8,), (37,), (39,), (30,), (31,), (15,), (5,), (10,), (22,), (10,), (21,), (14,), (22,), (3,), (7,), (1,), (4,), (9,), (5,), (4,), (66,), (20,), (38,), (30,), (49,), (50,), (10,), (80,), (33,), (26,), (104,), (42,), (20,), (22,), (7,), (26,), (7,), (12,), (46,), (15,), (38,), (53,), (28,), (35,), (28,), (4,), (14,), (38,), (30,), (19,), (25,), (31,), (26,), (40,), (34,), (5,), (48,), (18,), (29,), (63,), (11,), (24,), (70,), (8,), (21,), (31,), (7,), (37,), (5,), (8,), (6,), (17,), (16,), (25,), (5,), (17,), (53,), (7,), (19,), (21,), (12,), (20,), (10,), (27,), (9,), (12,), (29,), (14,), (14,), (9,), (6,), (19,), (7,), (136,), (6,), (17,), (22,), (20,), (13,), (19,), (29,), (10,), (8,), (19,), (24,), (14,), (18,), (15,), (25,), (6,), (10,), (2,), (6,), (7,), (21,), (13,), (3,), (7,), (39,), (10,), (7,), (32,), (6,), (8,), (4,), (14,), (12,), (9,), (8,), (10,), (29,), (11,), (51,), (8,), (5,), (4,), (3,), (7,), (21,), (7,), (7,), (5,), (3,), (41,), (4,), (2,), (2,), (8,), (8,), (5,), (17,), (7,), (20,), (4,), (5,), (3,), (3,), (30,), (17,), (15,), (15,), (5,), (1,), (5,), (35,), (12,), (1,), (6,), (3,), (14,), (14,), (22,), (30,), (35,), (15,), (15,), (23,), (25,), (24,), (16,), (20,), (5,), (27,), (3,), (20,), (1,), (10,), (7,), (6,), (2,), (3,), (5,), (8,), (23,), (6,), (2,), (2,), (0,), (26,), (49,), (57,), (23,), (78,), (33,), (27,), (38,), (20,), (18,), (7,), (53,), (11,), (8,), (8,), (2,), (26,), (12,), (6,), (4,), (6,), (12,), (15,), (8,), (11,), (5,), (6,), (7,), (35,), (39,), (22,), (41,), (57,), (16,), (11,), (20,), (17,), (13,), (35,), (27,), (23,), (26,), (9,), (81,), (17,), (17,), (5,), (10,), (30,), (10,), (12,), (13,), (3,), (21,), (9,), (39,), (6,), (35,), (4,), (14,), (14,), (0,), (0,), (8,), (25,), (7,), (13,), (13,), (16,), (6,), (48,), (9,), (12,), (4,), (29,), (18,), (2,), (12,), (14,), (15,), (8,), (27,), (20,), (10,), (5,), (63,), (17,), (1,), (34,), (26,), (4,), (10,), (5,), (8,), (33,), (2,), (13,), (4,), (21,), (68,), (81,), (52,), (9,), (25,), (8,), (18,), (21,), (20,), (19,), (12,), (49,), (13,), (21,), (43,), (16,), (28,), (40,), (22,), (23,), (95,), (4,), (2,), (47,), (53,), (7,), (15,), (42,), (10,), (15,), (29,), (19,), (11,), (22,), (9,), (29,), (14,), (6,), (41,), (20,), (13,), (2,), (11,), (11,), (8,), (18,), (6,), (17,), (25,), (20,), (20,), (26,), (26,), (14,), (36,), (7,), (30,), (16,), (27,), (17,), (25,), (7,), (14,), (23,), (12,), (3,), (30,), (56,), (19,), (18,), (55,), (5,), (28,), (16,), (17,), (4,), (11,), (12,), (15,), (9,), (4,), (12,), (62,), (16,), (17,), (93,), (17,), (27,), (7,), (0,), (14,), (11,), (20,), (43,), (8,), (23,), (64,), (9,), (4,), (13,), (6,), (10,), (32,), (9,), (5,), (5,), (10,), (3,), (15,), (16,), (15,), (6,), (19,), (35,), (9,), (35,), (7,), (3,), (5,), (14,), (17,), (17,), (15,), (19,), (2,), (17,), (2,), (29,), (11,), (7,), (30,), (9,), (12,), (12,), (15,), (5,), (6,), (9,), (6,), (0,), (45,), (1,), (8,), (2,), (29,), (1,), (4,), (8,), (12,), (27,), (26,), (13,), (9,), (7,), (7,), (37,), (2,), (3,), (13,), (15,), (10,), (12,), (60,), (0,), (6,), (14,), (3,), (5,), (44,), (8,), (10,), (0,), (11,), (9,), (2,), (20,), (3,), (12,), (12,), (10,), (6,), (3,), (27,), (4,), (13,), (14,), (0,), (0,), (7,), (33,), (28,), (20,), (7,), (45,), (28,), (11,), (25,), (45,), (20,), (78,), (76,), (13,), (2,), (1,), (27,), (18,), (10,), (1,), (28,), (118,), (3,), (7,), (57,), (17,), (21,), (4,), (11,), (2,), (0,), (5,), (5,), (30,), (26,), (15,), (1,), (44,), (16,), (36,), (85,), (20,), (29,), (25,), (15,), (32,), (9,), (33,), (14,), (6,), (26,), (36,), (16,), (14,), (50,), (31,), (9,), (36,), (12,), (11,), (12,), (89,), (34,), (17,), (18,), (11,), (14,), (19,), (4,), (10,), (18,), (35,), (13,), (8,), (7,), (52,), (11,), (6,), (9,), (4,), (5,), (53,), (14,), (13,), (11,), (7,), (13,), (16,), (14,), (9,), (3,), (1,), (12,), (3,), (3,), (24,), (17,), (10,), (31,), (1,), (9,), (1,), (32,), (8,), (13,), (17,), (2,), (10,), (10,), (7,), (6,), (1,), (8,), (0,), (18,), (10,), (9,), (12,), (22,), (33,), (3,), (7,), (28,), (23,), (28,), (42,), (7,), (21,), (2,), (25,), (67,), (20,), (27,), (70,), (23,), (14,), (30,), (3,), (7,), (23,), (36,), (14,), (12,), (24,), (35,), (10,), (14,), (9,), (5,), (32,), (3,), (10,), (4,), (2,), (3,), (18,), (3,), (33,), (5,), (7,), (17,), (1,), (19,), (2,), (0,), (36,), (1,), (9,), (25,), (9,), (8,), (2,), (6,), (20,), (4,), (24,), (20,), (18,), (10,), (12,), (55,), (35,), (18,), (7,), (14,), (9,), (29,), (15,), (41,), (21,), (1,), (4,), (90,), (6,), (7,), (11,), (15,), (10,), (38,), (8,), (32,), (6,), (9,), (9,), (32,), (3,), (7,), (36,), (3,), (9,), (44,), (19,), (0,), (2,), (2,), (8,), (5,), (29,), (8,), (2,), (13,), (4,), (38,), (9,), (18,), (2,), (20,), (7,), (43,), (14,), (20,), (2,), (1,), (0,), (6,), (18,), (17,), (29,), (2,), (12,), (20,), (58,), (45,), (80,), (54,), (17,), (3,), (17,), (4,), (145,), (12,), (3,), (21,), (47,), (22,), (27,), (19,), (58,), (2,), (16,), (43,), (4,), (9,), (19,), (13,), (11,), (30,), (31,), (21,), (7,), (19,), (23,), (49,), (11,), (61,), (7,), (6,), (41,), (12,), (42,), (19,), (10,), (11,), (44,), (10,), (49,), (7,), (5,), (34,), (7,), (3,), (2,), (13,), (13,), (3,), (19,), (30,), (9,), (15,), (19,), (11,), (3,), (17,), (8,), (4,), (7,), (18,), (7,), (9,), (35,), (45,), (4,), (47,), (11,), (24,), (26,), (8,), (1,), (0,), (11,), (2,), (16,), (20,), (8,), (9,), (2,), (3,), (6,), (0,), (17,), (3,), (3,), (41,), (10,), (49,), (11,), (6,), (9,), (8,), (7,), (7,), (0,), (7,), (25,), (5,), (13,), (7,), (13,), (21,), (0,), (12,), (8,), (32,), (8,), (31,), (12,), (12,), (30,), (1,), (11,), (5,), (5,), (15,), (2,), (0,), (32,), (17,), (6,), (8,), (6,), (7,), (9,), (22,), (2,), (19,), (1,), (7,), (1,), (12,), (2,), (6,), (49,), (4,), (0,), (5,), (0,), (52,), (29,), (41,), (10,), (4,), (37,), (7,), (59,), (16,), (45,), (15,), (4,), (25,), (22,), (13,), (6,), (27,), (12,), (4,), (13,), (4,), (23,), (1,), (3,), (5,), (6,), (11,), (7,), (14,), (20,), (6,), (7,), (2,), (7,), (3,), (1,), (4,), (11,), (11,), (4,), (7,), (13,), (11,), (5,), (6,), (4,), (3,), (0,), (8,), (0,), (9,), (1,), (5,), (4,), (8,), (4,), (7,), (24,), (44,), (16,), (9,), (16,), (7,), (32,), (4,), (32,), (17,), (29,), (18,), (0,), (6,), (91,), (105,), (9,), (17,), (10,), (25,), (9,), (43,), (11,), (54,), (13,), (12,), (60,), (73,), (7,), (2,), (4,), (6,), (4,), (16,), (24,), (37,), (95,), (27,), (2,), (17,), (6,), (24,), (6,), (1,), (66,), (9,), (6,), (4,), (1,), (11,), (10,), (5,), (35,), (10,), (4,), (17,), (1,), (26,), (1,), (12,), (43,), (1,), (3,), (2,), (10,), (30,), (4,), (34,), (6,), (1,), (19,), (6,), (13,), (6,), (35,), (7,), (13,), (11,), (5,), (8,), (4,), (15,), (34,), (22,), (0,), (2,), (7,), (26,), (6,), (28,), (9,), (0,), (47,), (50,), (60,), (11,), (15,), (6,), (10,), (22,), (41,), (23,), (19,), (21,), (45,), (12,), (40,), (26,), (64,), (3,), (14,), (6,), (49,), (21,), (20,), (8,), (11,), (4,), (11,), (15,), (18,), (8,), (74,), (18,), (15,), (8,), (6,), (29,), (6,), (5,), (16,), (64,), (4,), (29,), (7,), (1,), (16,), (47,), (1,), (0,), (10,), (14,), (6,), (19,), (26,), (3,), (74,), (21,), (16,), (32,), (13,), (5,), (8,), (4,), (7,), (4,), (1,), (2,), (10,), (8,), (3,), (27,), (1,), (9,), (9,), (32,), (2,), (27,), (12,), (3,), (4,), (5,), (5,), (3,), (2,), (9,), (2,), (11,), (1,), (2,), (1,), (11,), (4,), (0,), (5,), (5,), (25,), (0,), (11,), (53,), (0,), (20,), (2,), (4,), (0,), (45,), (126,), (56,), (12,), (14,), (21,), (31,), (11,), (19,), (31,), (3,), (7,), (7,), (38,), (33,), (15,), (23,), (31,), (14,), (7,), (3,), (7,), (3,), (4,), (39,), (29,), (4,), (2,), (7,), (7,), (16,), (21,), (6,), (33,), (9,), (33,), (3,), (4,), (4,), (1,), (36,), (4,), (9,), (1,), (4,), (5,), (3,), (32,), (0,), (31,), (8,), (3,), (4,), (18,), (6,), (86,), (56,), (12,), (1,), (0,), (0,), (3,), (5,), (25,), (43,), (10,), (33,), (10,), (14,), (53,), (8,), (29,), (14,), (5,), (17,), (19,), (8,), (35,), (26,), (23,), (25,), (8,), (21,), (5,), (36,), (34,), (38,), (30,), (7,), (45,), (4,), (10,), (20,), (14,), (6,), (12,), (6,), (3,), (4,), (9,), (11,), (13,), (31,), (16,), (26,), (2,), (5,), (22,), (5,), (2,), (4,), (2,), (18,), (26,), (17,), (6,), (11,), (3,), (8,), (32,), (33,), (2,), (4,), (17,), (4,), (7,), (3,), (5,), (21,), (5,), (1,), (27,), (1,), (11,), (18,), (6,), (28,), (5,), (5,), (9,), (14,), (9,), (35,), (12,), (30,), (10,), (73,), (16,), (1,), (6,), (15,), (0,), (14,), (14,), (0,), (12,), (3,), (17,), (16,), (10,), (5,), (4,), (4,), (8,), (28,), (3,), (1,), (8,), (3,), (2,), (19,), (0,), (19,), (4,), (6,), (3,), (5,), (19,), (3,), (4,), (16,), (14,), (8,), (8,), (10,), (0,), (4,), (6,), (17,), (3,), (0,), (5,), (1,), (7,), (2,), (1,), (9,), (12,), (2,), (6,), (11,), (0,), (0,), (2,), (0,), (1,), (2,), (10,), (0,), (5,), (1,), (3,), (9,), (7,), (9,), (6,), (2,), (4,), (1,), (2,), (1,), (1,), (5,), (2,), (0,), (11,), (10,), (3,), (19,), (3,), (9,), (11,), (28,), (9,), (17,), (11,), (5,), (14,), (19,), (12,), (3,), (5,), (10,), (4,), (36,), (5,), (5,), (94,), (29,), (17,), (7,), (31,), (10,), (7,), (6,), (3,), (27,), (14,), (82,), (3,), (18,), (7,), (11,), (34,), (4,), (6,), (4,), (5,), (1,), (8,), (2,), (8,), (4,), (3,), (2,), (5,), (5,), (10,), (9,), (9,), (0,), (8,), (5,), (2,), (0,), (1,), (7,), (2,), (7,), (2,), (4,), (16,), (3,), (3,), (3,), (14,), (18,), (1,), (6,), (24,), (17,), (7,), (11,), (14,), (0,), (13,), (3,), (40,), (3,), (11,), (2,), (9,), (14,), (28,), (0,), (1,), (6,), (3,), (7,), (5,), (1,), (121,), (10,), (89,), (2,), (37,), (21,), (14,), (51,), (45,), (3,), (26,), (3,), (2,), (33,), (8,), (37,), (4,), (3,), (10,), (25,), (14,), (4,), (4,), (7,), (13,), (45,), (9,), (5,), (13,), (1,), (14,), (45,), (0,), (5,), (11,), (2,), (1,), (3,), (5,), (21,), (7,), (8,), (8,), (4,), (13,), (6,), (1,), (8,), (0,), (10,), (35,), (7,), (4,), (0,), (6,), (1,), (5,), (1,), (10,), (9,), (4,), (3,), (2,), (6,), (39,), (12,), (0,), (2,), (1,), (9,), (7,), (11,), (5,), (6,), (2,), (19,), (4,), (17,), (3,), (29,), (20,), (16,), (4,), (2,), (8,), (1,), (1,), (0,), (14,), (1,), (0,), (8,), (0,), (7,), (1,), (0,), (24,), (9,), (25,), (38,), (16,), (1,), (19,), (4,), (34,), (143,), (18,), (45,), (17,), (35,), (11,), (30,), (5,), (29,), (4,), (17,), (17,), (25,), (12,), (30,), (6,), (23,), (1,), (14,), (5,), (16,), (29,), (2,), (19,), (0,), (23,), (6,), (9,), (8,), (21,), (14,), (2,), (12,), (2,), (2,), (4,), (2,), (3,), (5,), (15,), (0,), (7,), (11,), (21,), (1,), (2,), (2,), (5,), (3,), (8,), (9,), (7,), (0,), (13,), (10,), (5,), (1,), (8,), (2,), (3,), (8,), (2,), (34,), (0,), (5,), (5,), (1,), (14,), (8,), (26,), (21,), (3,), (6,), (2,), (3,), (4,), (25,), (21,), (4,), (3,), (23,), (60,), (0,), (17,), (6,), (8,), (11,), (2,), (11,), (11,), (12,), (1,), (3,), (40,), (24,), (2,), (16,), (5,), (1,), (8,), (2,), (11,), (74,), (11,), (13,), (14,), (16,), (67,), (49,), (16,), (24,), (59,), (12,), (23,), (15,), (3,), (5,), (64,), (12,), (35,), (40,), (7,), (10,), (24,), (3,), (12,), (7,), (4,), (6,), (15,), (3,), (26,), (8,), (12,), (0,), (8,), (3,), (14,), (5,), (6,), (19,), (7,), (26,), (4,), (9,), (15,), (5,), (4,), (5,), (1,), (6,), (4,), (1,), (14,), (7,), (12,), (2,), (1,), (0,), (1,), (6,), (2,), (3,), (0,), (6,), (2,), (0,), (15,), (1,), (1,), (10,), (12,), (4,), (2,), (18,), (13,), (6,), (5,), (4,), (4,), (2,), (11,), (0,), (22,), (4,), (3,), (0,), (22,), (0,), (28,), (10,), (3,), (10,), (33,), (19,), (14,), (2,), (2,), (20,), (2,), (7,), (15,), (5,), (10,), (32,), (3,), (5,), (1,), (3,), (3,), (1,), (20,), (9,), (1,), (5,), (5,), (0,), (48,), (42,), (53,), (14,), (48,), (29,), (56,), (17,), (9,), (20,), (4,), (6,), (16,), (19,), (9,), (19,), (30,), (59,), (20,), (60,), (35,), (18,), (20,), (32,), (3,), (3,), (1,), (4,), (3,), (15,), (22,), (5,), (26,), (7,), (1,), (35,), (4,), (7,), (12,), (18,), (62,), (9,), (16,), (49,), (8,), (5,), (9,), (8,), (5,), (8,), (17,), (19,), (38,), (6,), (0,), (14,), (5,), (1,), (3,), (3,), (9,), (3,), (3,), (2,), (5,), (4,), (9,), (6,), (49,), (4,), (46,), (3,), (4,), (7,), (4,), (6,), (0,), (8,), (3,), (9,), (2,), (35,), (6,), (21,), (10,), (4,), (30,), (6,), (1,), (11,), (2,), (0,), (0,), (0,), (19,), (1,), (0,), (1,), (3,), (38,), (3,), (0,), (7,), (9,), (8,), (7,), (1,), (10,), (0,), (1,), (0,), (10,), (1,), (11,), (0,), (8,), (2,), (2,), (5,), (14,), (25,), (38,), (3,), (19,), (1,), (7,), (8,), (9,), (4,), (35,), (0,), (0,), (3,), (0,), (6,), (0,), (3,), (0,), (15,), (22,), (29,), (20,), (5,), (30,), (15,), (11,), (1,), (0,), (3,), (10,), (61,), (0,), (0,), (6,), (3,), (17,), (0,), (8,), (8,), (5,), (7,), (14,), (0,), (127,), (3,), (7,), (2,), (8,), (6,), (6,), (11,), (7,), (12,), (10,), (16,), (0,), (12,), (8,), (12,), (10,), (25,), (45,), (35,), (8,), (14,), (40,), (22,), (2,), (4,), (24,), (1,), (15,), (29,), (35,), (7,), (10,), (43,), (17,), (2,), (1,), (9,), (2,), (7,), (1,), (29,), (18,), (11,), (5,), (4,), (22,), (19,), (0,), (4,), (4,), (3,), (6,), (4,), (12,), (7,), (12,), (1,), (12,), (8,), (5,), (2,), (9,), (22,), (1,), (7,), (2,), (0,), (1,), (21,), (0,), (0,), (18,), (0,), (3,), (12,), (0,), (2,), (3,), (8,), (3,), (1,), (1,), (6,), (8,), (0,), (12,), (4,), (1,), (1,), (4,), (9,), (17,), (48,), (1,), (3,), (1,), (20,), (0,), (8,), (0,), (2,), (3,), (21,), (17,), (46,), (1,), (25,), (3,), (10,), (2,), (7,), (3,), (2,), (10,), (50,), (0,), (8,), (5,), (25,), (3,), (35,), (3,), (20,), (0,), (12,), (0,), (3,), (6,), (0,), (1,), (0,), (0,), (1,), (25,), (1,), (4,), (3,), (3,), (1,), (5,), (17,), (26,), (1,), (11,), (192,), (44,), (4,), (6,), (3,), (21,), (15,), (1,), (5,), (2,), (0,), (13,), (26,), (11,), (8,), (3,), (11,), (8,), (17,), (47,), (11,), (42,), (63,), (1,), (22,), (5,), (11,), (6,), (21,), (7,), (54,), (41,), (0,), (16,), (24,), (11,), (9,), (11,), (23,), (1,), (3,), (22,), (10,), (7,), (1,), (14,), (0,), (2,), (6,), (13,), (0,), (5,), (0,), (23,), (4,), (5,), (0,), (1,), (2,), (3,), (2,), (3,), (5,), (23,), (3,), (5,), (13,), (6,), (4,), (3,), (15,), (2,), (10,), (1,), (15,), (56,), (3,), (16,), (1,), (4,), (1,), (12,), (3,), (2,), (20,), (0,), (1,), (3,), (0,), (2,), (0,), (11,), (9,), (12,), (0,), (0,), (2,), (2,), (12,), (1,), (9,), (5,), (0,), (1,), (1,), (1,), (0,), (1,), (1,), (5,), (3,), (5,), (3,), (1,), (4,), (1,), (0,), (6,), (39,), (9,), (67,), (36,), (15,), (2,), (0,), (11,), (0,), (1,), (1,), (0,), (0,), (22,), (14,), (13,), (11,), (1,), (0,), (19,), (0,), (3,), (36,), (0,), (18,), (0,), (14,), (12,), (18,), (6,), (9,), (10,), (30,), (23,), (0,), (5,), (2,), (0,), (23,), (7,), (25,), (9,), (0,), (0,), (0,), (0,), (3,), (5,), (4,), (12,), (0,), (4,), (3,), (4,), (1,), (27,), (1,), (8,), (8,), (0,), (0,), (0,), (1,), (0,), (5,), (6,), (32,), (0,), (14,), (12,), (2,), (2,), (1,), (0,), (2,), (0,), (2,), (2,), (8,), (6,), (2,), (0,), (31,), (0,), (2,), (0,), (41,), (1,), (10,), (100,), (13,), (22,), (37,), (15,), (15,), (11,), (34,), (5,), (17,), (1,), (13,), (2,), (7,), (14,), (23,), (20,), (5,), (20,), (14,), (0,), (9,), (16,), (28,), (18,), (12,), (6,), (1,), (7,), (14,), (14,), (2,), (18,), (3,), (4,), (3,), (1,), (1,), (3,), (5,), (6,), (7,), (1,), (3,), (2,), (0,), (5,), (0,), (2,), (5,), (1,), (7,), (5,), (4,), (6,), (20,), (5,), (6,), (1,), (4,), (13,), (7,), (9,), (0,), (5,), (0,), (0,), (8,), (4,), (3,), (5,), (2,), (0,), (3,), (1,), (4,), (8,), (1,), (1,), (1,), (2,), (1,), (6,), (1,), (3,), (32,), (8,), (4,), (4,), (1,), (14,), (3,), (1,), (14,), (1,), (14,), (41,), (2,), (12,), (13,), (3,), (1,), (0,), (0,), (0,), (0,), (11,), (0,), (6,), (0,), (1,), (0,), (27,), (8,), (2,), (2,), (18,), (6,), (26,), (2,), (3,), (14,), (3,), (3,), (6,), (8,), (2,), (0,), (0,), (4,), (3,), (1,), (20,), (0,), (3,), (3,), (5,), (9,), (17,), (12,), (13,), (13,), (3,), (6,), (11,), (5,), (10,), (58,), (11,), (8,), (2,), (3,), (15,), (5,), (9,), (4,), (0,), (11,), (1,), (0,), (12,), (28,), (0,), (7,), (2,), (0,), (0,), (0,), (4,), (1,), (14,), (10,), (1,), (0,), (0,), (9,), (1,), (0,), (1,), (2,), (0,), (80,), (0,), (3,), (1,), (1,), (8,), (2,), (0,), (9,), (16,), (0,), (10,), (3,), (0,), (0,), (0,), (0,), (0,), (1,), (0,), (5,), (5,), (18,), (16,), (6,), (4,), (0,), (0,), (9,), (7,), (4,), (10,), (63,), (16,), (0,), (1,), (8,), (7,), (6,), (4,), (3,), (66,), (1,), (88,), (9,), (1,), (0,), (0,), (20,), (0,), (1,), (8,), (2,), (1,), (8,), (1,), (1,), (0,), (10,), (12,), (1,), (0,), (0,), (7,), (40,), (0,), (0,), (43,), (4,), (3,), (11,), (72,), (0,), (2,), (41,), (58,), (6,), (48,), (20,), (22,), (6,), (6,), (3,), (26,), (9,), (13,), (4,), (1,), (14,), (3,), (2,), (17,), (0,), (9,), (15,), (1,), (1,), (15,), (17,), (10,), (4,), (5,), (4,), (0,), (5,), (3,), (9,), (0,), (0,), (0,), (5,), (3,), (0,), (16,), (0,), (8,), (37,), (5,), (8,), (0,), (0,), (0,), (0,), (1,), (1,), (0,), (0,), (8,), (6,), (1,), (0,), (0,), (9,), (0,), (2,), (1,), (1,), (0,), (0,), (0,), (3,), (7,), (3,), (1,), (0,), (0,), (0,), (2,), (0,), (1,), (0,), (1,), (0,), (0,), (0,), (7,), (6,), (1,), (0,), (1,), (3,), (0,), (0,), (7,), (8,), (0,), (0,), (16,), (5,), (9,), (0,), (25,), (4,), (2,), (20,), (10,), (47,), (0,), (5,), (0,), (0,), (14,), (9,), (0,), (3,), (5,), (0,), (12,), (0,), (5,), (0,), (3,), (1,), (0,), (2,), (5,), (0,), (1,), (11,), (6,), (0,), (19,), (1,), (1,), (25,), (5,), (12,), (14,), (8,), (0,), (3,), (12,), (1,), (18,), (9,), (1,), (7,), (2,), (0,), (12,), (0,), (0,), (1,), (1,), (0,), (0,), (4,), (0,), (2,), (3,), (41,), (3,), (10,), (0,), (0,), (0,), (0,), (0,), (2,), (1,), (10,), (0,), (0,), (0,), (6,), (0,), (2,), (15,), (1,), (2,), (0,), (11,), (0,), (0,), (2,), (0,), (1,), (0,), (1,), (0,), (0,), (8,), (0,), (0,), (0,), (3,), (17,), (0,), (39,), (0,), (1,), (0,), (9,), (1,), (1,), (26,), (0,), (0,), (2,), (1,), (0,), (0,), (10,), (0,), (14,), (1,), (0,), (3,), (0,), (0,), (0,), (0,), (0,), (0,), (6,), (0,), (7,), (4,), (3,), (0,), (1,), (1,), (4,), (0,), (23,), (25,), (47,), (3,), (64,), (0,), (0,), (1,), (0,), (8,), (38,), (1,), (3,), (0,), (11,), (3,), (2,), (0,), (35,), (19,), (0,), (1,), (5,), (0,), (0,), (59,), (1,), (11,), (28,), (1,), (1,), (11,), (1,), (4,), (0,), (1,), (0,), (0,), (7,), (0,), (0,), (0,), (0,), (0,), (1,), (0,), (6,), (1,), (0,), (0,), (0,), (1,), (2,), (8,), (20,), (1,), (3,), (1,), (0,), (0,), (44,), (0,), (0,), (5,), (21,), (0,), (0,), (6,), (0,), (5,), (20,), (0,), (0,), (0,), (5,), (0,), (1,), (1,), (0,), (0,), (0,), (0,), (18,), (0,), (0,), (0,), (1,), (2,), (33,), (13,), (38,), (0,), (0,), (2,), (5,), (0,), (0,), (1,), (0,), (4,), (3,), (0,), (0,), (3,), (1,), (31,), (0,), (4,), (0,), (0,), (1,), (0,), (7,), (1,), (6,), (0,), (0,), (25,), (0,), (0,), (8,), (19,), (0,), (0,), (2,), (0,), (8,), (0,), (2,), (0,), (3,), (0,), (6,), (12,), (2,), (1,), (9,), (0,), (4,), (18,), (20,), (2,), (5,), (0,), (1,), (0,), (10,), (7,), (8,), (0,), (0,), (0,), (0,), (0,), (27,), (0,), (0,), (0,), (10,), (0,), (7,), (2,), (0,), (0,), (6,), (1,), (0,), (0,), (2,), (0,), (0,), (0,), (1,), (0,), (27,), (0,), (0,), (0,), (2,), (0,), (0,), (0,), (3,), (0,), (0,), (0,), (0,), (0,), (1,), (19,), (0,), (0,), (2,), (0,), (7,), (3,), (0,), (0,), (1,), (3,), (1,), (0,), (0,), (3,), (4,), (1,), (1,), (0,), (0,), (0,), (0,), (0,), (23,), (0,), (14,), (0,), (1,), (0,), (1,)]\n"
          ]
        }
      ]
    },
    {
      "cell_type": "code",
      "source": [
        "# Multistring format\n",
        "cur.execute('''\n",
        "SELECT original_title\n",
        "FROM movies\n",
        "ORDER BY popularity DESC''')\n",
        "top_three_movies= cur.fetchall()\n",
        "print(f'Top three movies {top_three_movies[0:3]}')"
      ],
      "metadata": {
        "colab": {
          "base_uri": "https://localhost:8080/"
        },
        "id": "-NxCiyF2pjLo",
        "outputId": "98bf01b3-aa13-47f4-fe3c-441294c186e4"
      },
      "execution_count": null,
      "outputs": [
        {
          "output_type": "stream",
          "name": "stdout",
          "text": [
            "Top three movies [('Minions',), ('Interstellar',), ('Deadpool',)]\n"
          ]
        }
      ]
    },
    {
      "cell_type": "code",
      "source": [
        "cur.execute('SELECT original_title FROM movies WHERE popularity IN (875, 724, 514)')\n",
        "top_three_movies= cur.fetchall()\n",
        "print(f'Top three movies {top_three_movies[0:3]}')"
      ],
      "metadata": {
        "colab": {
          "base_uri": "https://localhost:8080/"
        },
        "id": "q9ytk4cQpjN4",
        "outputId": "29075ea3-2407-4ce5-dc40-d9088d22da99"
      },
      "execution_count": null,
      "outputs": [
        {
          "output_type": "stream",
          "name": "stdout",
          "text": [
            "Top three movies [('Interstellar',), ('Minions',), ('Deadpool',)]\n"
          ]
        }
      ]
    },
    {
      "cell_type": "code",
      "source": [
        "# Right\n",
        "cur.execute('SELECT original_title FROM movies ORDER BY popularity DESC LIMIT 3')\n",
        "top_three_movies= cur.fetchall()\n",
        "print(f'Top three movies {top_three_movies}')"
      ],
      "metadata": {
        "colab": {
          "base_uri": "https://localhost:8080/"
        },
        "id": "2aeWSfm7pjQj",
        "outputId": "632fa041-fe01-4f82-8bac-77358194c029"
      },
      "execution_count": null,
      "outputs": [
        {
          "output_type": "stream",
          "name": "stdout",
          "text": [
            "Top three movies [('Minions',), ('Interstellar',), ('Deadpool',)]\n"
          ]
        }
      ]
    },
    {
      "cell_type": "code",
      "source": [
        "# To Explore ->\n",
        "# JOIN\n",
        "# ORDER BY\n",
        "# GROUP BY\n",
        "# SUBQUERY\n",
        "# AGGREGATION"
      ],
      "metadata": {
        "id": "9lvKFvnTTpYF"
      },
      "execution_count": null,
      "outputs": []
    },
    {
      "cell_type": "markdown",
      "source": [
        "## Q7: Find the top 3 bankable(budget) movie"
      ],
      "metadata": {
        "id": "tYxkCBNMVM3h"
      }
    },
    {
      "cell_type": "code",
      "source": [
        "movies_df.columns"
      ],
      "metadata": {
        "colab": {
          "base_uri": "https://localhost:8080/"
        },
        "id": "0Ew1TwgzTpay",
        "outputId": "c7a87ac9-c53b-41fe-88f9-b4de6149c137"
      },
      "execution_count": null,
      "outputs": [
        {
          "output_type": "execute_result",
          "data": {
            "text/plain": [
              "Index(['id', 'original_title', 'budget', 'popularity', 'release_data',\n",
              "       'revenue', 'title', 'vote_average', 'vote_count', 'overview', 'tagling',\n",
              "       'uid', 'director_id'],\n",
              "      dtype='object')"
            ]
          },
          "metadata": {},
          "execution_count": 82
        }
      ]
    },
    {
      "cell_type": "code",
      "source": [
        "cur.execute('SELECT original_title FROM movies ORDER BY budget DESC LIMIT 3')\n",
        "top_three_movies= cur.fetchall()\n",
        "print(f'Top three movies {top_three_movies}')"
      ],
      "metadata": {
        "colab": {
          "base_uri": "https://localhost:8080/"
        },
        "id": "2s6XNcQgW0Ho",
        "outputId": "2c5441b1-4326-498c-8fd3-c6fe683edd87"
      },
      "execution_count": null,
      "outputs": [
        {
          "output_type": "stream",
          "name": "stdout",
          "text": [
            "Top three movies [('Pirates of the Caribbean: On Stranger Tides',), (\"Pirates of the Caribbean: At World's End\",), ('Avengers: Age of Ultron',)]\n"
          ]
        }
      ]
    },
    {
      "cell_type": "markdown",
      "source": [
        "## Q8: Find out most awarder average rated movie since jan 1st, 2000"
      ],
      "metadata": {
        "id": "NoHPH6n-Xuvs"
      }
    },
    {
      "cell_type": "code",
      "source": [
        "movies_df.columns"
      ],
      "metadata": {
        "colab": {
          "base_uri": "https://localhost:8080/"
        },
        "id": "E5T2JETrYWIw",
        "outputId": "0d279689-10e4-4d51-b3af-e303c8f4c8d8"
      },
      "execution_count": null,
      "outputs": [
        {
          "output_type": "execute_result",
          "data": {
            "text/plain": [
              "Index(['id', 'original_title', 'budget', 'popularity', 'release_data',\n",
              "       'revenue', 'title', 'vote_average', 'vote_count', 'overview', 'tagling',\n",
              "       'uid', 'director_id'],\n",
              "      dtype='object')"
            ]
          },
          "metadata": {},
          "execution_count": 85
        }
      ]
    },
    {
      "cell_type": "code",
      "source": [
        "# To lookup on release_date\n",
        "cur.execute('SELECT release_date FROM movies')\n",
        "rel_date = cur.fetchall()\n",
        "print(rel_date)"
      ],
      "metadata": {
        "colab": {
          "base_uri": "https://localhost:8080/"
        },
        "id": "aceZEeiYaTXL",
        "outputId": "1505d1ab-fe15-4d34-8903-0afe1f378beb"
      },
      "execution_count": null,
      "outputs": [
        {
          "output_type": "stream",
          "name": "stdout",
          "text": [
            "The most awarder average rated movie since jan 1st, 2000 is 2009-12-10\n"
          ]
        }
      ]
    },
    {
      "cell_type": "code",
      "source": [
        "# To lookup on vote_average\n",
        "cur.execute('SELECT vote_average from movies')\n",
        "avg_vote = cur.fetchall()\n",
        "print(avg_vote)\n",
        "# Higher to lower -> DESC(top)"
      ],
      "metadata": {
        "colab": {
          "base_uri": "https://localhost:8080/"
        },
        "id": "tLEOzEboafIy",
        "outputId": "600594fa-32ad-4229-9a3b-57f66bf5cb7d"
      },
      "execution_count": null,
      "outputs": [
        {
          "output_type": "stream",
          "name": "stdout",
          "text": [
            "[(7.2,), (6.9,), (6.3,), (7.6,), (6.1,), (5.9,), (7.4,), (7.3,), (7.4,), (5.7,), (5.4,), (6.1,), (7.0,), (5.9,), (6.5,), (6.3,), (7.4,), (6.4,), (6.2,), (7.1,), (6.5,), (6.2,), (7.6,), (5.8,), (6.6,), (7.5,), (7.1,), (5.5,), (6.5,), (6.9,), (6.7,), (6.8,), (6.4,), (6.3,), (7.0,), (6.0,), (5.8,), (5.7,), (6.5,), (6.3,), (5.8,), (5.1,), (7.6,), (5.9,), (7.3,), (6.7,), (7.5,), (7.4,), (5.5,), (7.3,), (6.2,), (6.7,), (6.1,), (5.7,), (6.6,), (6.7,), (6.6,), (7.8,), (6.1,), (5.6,), (6.6,), (5.2,), (5.5,), (6.7,), (6.4,), (8.2,), (7.7,), (6.0,), (7.4,), (7.0,), (5.1,), (5.2,), (5.9,), (5.3,), (7.6,), (5.9,), (5.6,), (8.0,), (6.7,), (6.6,), (5.8,), (7.0,), (7.3,), (4.8,), (5.9,), (7.6,), (6.0,), (6.2,), (7.8,), (7.1,), (6.4,), (4.9,), (7.5,), (5.9,), (7.9,), (8.1,), (8.1,), (6.5,), (7.0,), (6.6,), (7.3,), (7.1,), (6.6,), (5.8,), (5.5,), (6.5,), (6.0,), (6.3,), (5.8,), (6.2,), (6.6,), (6.6,), (5.6,), (7.4,), (7.5,), (6.2,), (6.9,), (6.7,), (7.5,), (7.5,), (6.2,), (5.9,), (6.2,), (6.4,), (7.3,), (6.7,), (6.8,), (7.2,), (6.5,), (6.6,), (6.3,), (5.1,), (5.5,), (5.7,), (7.1,), (5.5,), (5.7,), (6.7,), (4.7,), (6.5,), (6.4,), (5.5,), (6.0,), (5.9,), (6.7,), (6.9,), (6.4,), (5.8,), (5.3,), (6.4,), (6.0,), (5.5,), (6.7,), (6.8,), (7.1,), (5.9,), (7.3,), (5.6,), (7.4,), (6.8,), (7.6,), (5.3,), (4.9,), (7.0,), (6.3,), (5.3,), (5.4,), (5.7,), (5.9,), (6.6,), (6.0,), (6.9,), (6.1,), (5.8,), (6.1,), (6.0,), (7.3,), (6.1,), (6.6,), (6.5,), (7.3,), (6.9,), (7.0,), (7.4,), (6.8,), (6.2,), (6.3,), (6.4,), (6.2,), (5.6,), (6.7,), (7.7,), (6.3,), (5.0,), (6.2,), (6.1,), (6.7,), (7.5,), (5.4,), (7.5,), (6.6,), (6.5,), (6.3,), (6.8,), (7.1,), (7.0,), (5.6,), (7.1,), (6.4,), (6.0,), (4.2,), (6.2,), (6.2,), (5.9,), (6.2,), (5.4,), (7.2,), (5.2,), (5.9,), (5.2,), (6.3,), (5.4,), (6.4,), (6.3,), (5.7,), (5.7,), (4.9,), (5.9,), (6.4,), (7.1,), (6.4,), (7.5,), (6.3,), (6.3,), (6.8,), (5.0,), (5.8,), (6.0,), (5.8,), (7.3,), (5.7,), (5.8,), (4.4,), (6.3,), (6.0,), (6.0,), (6.8,), (6.4,), (6.5,), (6.2,), (7.0,), (4.9,), (5.5,), (6.1,), (5.5,), (5.7,), (5.9,), (6.6,), (5.5,), (4.1,), (6.6,), (6.4,), (8.0,), (5.7,), (6.7,), (4.9,), (6.7,), (6.6,), (5.8,), (6.7,), (7.6,), (6.5,), (3.7,), (6.1,), (7.9,), (7.1,), (7.4,), (7.3,), (5.6,), (7.7,), (6.5,), (7.4,), (6.8,), (6.2,), (5.4,), (6.1,), (5.6,), (7.8,), (6.8,), (7.2,), (6.1,), (6.4,), (4.9,), (6.4,), (6.4,), (6.0,), (5.5,), (7.3,), (7.9,), (5.2,), (6.7,), (6.6,), (6.5,), (4.2,), (5.6,), (7.2,), (5.3,), (6.1,), (5.5,), (3.6,), (6.5,), (4.4,), (6.4,), (6.5,), (7.1,), (6.0,), (7.1,), (7.1,), (5.9,), (5.4,), (7.2,), (5.6,), (7.3,), (5.4,), (7.0,), (6.2,), (6.7,), (6.6,), (7.6,), (8.1,), (8.0,), (5.2,), (5.7,), (5.9,), (5.7,), (7.0,), (6.3,), (5.2,), (5.8,), (7.4,), (5.7,), (6.0,), (6.9,), (7.3,), (6.3,), (6.4,), (6.3,), (6.5,), (6.5,), (7.0,), (5.6,), (7.9,), (7.6,), (6.5,), (7.2,), (6.9,), (7.0,), (5.3,), (6.7,), (5.8,), (6.7,), (5.5,), (5.6,), (6.8,), (5.2,), (7.2,), (5.6,), (6.2,), (5.9,), (5.5,), (6.7,), (5.9,), (6.8,), (5.7,), (6.5,), (6.9,), (5.2,), (5.9,), (6.1,), (6.6,), (7.3,), (5.4,), (6.7,), (6.1,), (7.5,), (5.9,), (7.2,), (6.2,), (7.2,), (5.6,), (6.8,), (6.6,), (6.3,), (5.1,), (5.8,), (6.7,), (6.7,), (6.2,), (6.5,), (6.1,), (6.9,), (7.2,), (6.4,), (6.1,), (7.3,), (6.1,), (6.7,), (6.9,), (5.5,), (7.3,), (5.5,), (7.2,), (5.4,), (4.7,), (5.4,), (6.6,), (6.0,), (6.7,), (4.9,), (5.9,), (6.5,), (7.3,), (5.7,), (6.4,), (6.0,), (6.7,), (6.9,), (6.2,), (6.6,), (6.3,), (7.1,), (5.8,), (5.9,), (6.4,), (6.2,), (5.4,), (5.8,), (6.0,), (6.3,), (7.8,), (5.3,), (6.0,), (6.8,), (5.9,), (7.3,), (6.3,), (6.5,), (6.3,), (6.7,), (6.6,), (5.3,), (5.2,), (6.5,), (5.6,), (5.2,), (6.5,), (7.4,), (5.6,), (5.2,), (7.4,), (5.3,), (5.0,), (6.2,), (8.0,), (6.7,), (7.0,), (5.8,), (5.9,), (6.1,), (5.9,), (6.8,), (5.2,), (5.6,), (6.1,), (6.4,), (6.7,), (5.9,), (6.9,), (5.8,), (5.2,), (3.0,), (5.6,), (5.1,), (5.4,), (6.1,), (5.2,), (5.7,), (5.4,), (6.0,), (7.3,), (4.8,), (5.2,), (5.3,), (7.7,), (8.0,), (5.8,), (6.4,), (6.7,), (6.5,), (4.1,), (6.2,), (7.6,), (5.7,), (3.9,), (5.9,), (5.7,), (7.0,), (6.7,), (6.2,), (6.6,), (7.4,), (6.8,), (6.4,), (6.9,), (6.5,), (6.6,), (6.5,), (4.7,), (4.3,), (7.3,), (6.0,), (7.0,), (5.7,), (5.9,), (6.5,), (5.8,), (6.6,), (5.4,), (6.9,), (6.4,), (5.7,), (7.1,), (5.8,), (6.3,), (6.2,), (5.9,), (6.4,), (5.7,), (6.2,), (6.3,), (5.0,), (6.1,), (5.8,), (4.3,), (5.7,), (6.9,), (6.4,), (5.9,), (5.8,), (5.8,), (5.9,), (5.4,), (5.7,), (6.5,), (6.2,), (4.9,), (7.7,), (6.6,), (6.9,), (6.6,), (4.5,), (6.9,), (6.2,), (5.4,), (6.4,), (6.7,), (6.6,), (5.7,), (5.8,), (5.8,), (6.4,), (7.9,), (6.6,), (6.6,), (5.8,), (6.5,), (5.3,), (5.5,), (5.4,), (6.7,), (6.2,), (6.3,), (5.5,), (7.6,), (6.0,), (7.0,), (5.8,), (7.1,), (5.8,), (6.2,), (6.0,), (7.1,), (7.0,), (5.2,), (5.4,), (5.0,), (5.2,), (6.1,), (6.0,), (5.9,), (6.1,), (3.4,), (4.3,), (5.5,), (5.9,), (5.9,), (5.1,), (5.7,), (4.6,), (6.7,), (4.4,), (5.9,), (5.8,), (6.7,), (7.1,), (5.4,), (6.2,), (6.9,), (5.7,), (5.4,), (7.3,), (6.3,), (6.5,), (5.5,), (5.5,), (6.0,), (6.6,), (5.0,), (7.9,), (6.1,), (6.1,), (7.1,), (5.3,), (6.7,), (7.9,), (7.3,), (5.5,), (7.1,), (6.3,), (6.5,), (6.3,), (6.2,), (7.3,), (6.3,), (6.1,), (5.7,), (6.0,), (5.9,), (6.5,), (5.9,), (7.1,), (6.0,), (6.7,), (5.9,), (5.7,), (6.4,), (6.1,), (5.6,), (6.0,), (6.5,), (6.0,), (6.1,), (8.3,), (6.7,), (5.4,), (4.9,), (5.0,), (6.7,), (4.8,), (6.3,), (5.3,), (6.7,), (7.1,), (5.9,), (6.1,), (7.6,), (6.5,), (6.4,), (5.9,), (5.3,), (6.1,), (6.5,), (4.3,), (5.8,), (7.6,), (5.9,), (5.5,), (7.0,), (6.1,), (6.9,), (8.2,), (5.6,), (5.6,), (7.9,), (7.3,), (6.6,), (6.1,), (7.8,), (6.8,), (5.6,), (6.6,), (5.0,), (6.6,), (5.9,), (6.0,), (5.3,), (5.9,), (5.7,), (6.4,), (5.8,), (6.5,), (6.6,), (6.8,), (6.7,), (7.0,), (5.3,), (6.2,), (6.3,), (5.6,), (6.7,), (6.2,), (4.3,), (7.3,), (4.9,), (7.3,), (4.5,), (5.6,), (5.5,), (6.5,), (6.1,), (6.7,), (6.1,), (5.9,), (5.9,), (5.8,), (5.3,), (5.6,), (5.9,), (6.4,), (5.8,), (5.9,), (6.9,), (6.6,), (6.3,), (7.5,), (5.3,), (6.0,), (6.2,), (4.6,), (7.0,), (6.7,), (5.7,), (5.1,), (5.8,), (5.6,), (6.1,), (5.8,), (6.6,), (6.2,), (5.8,), (5.7,), (5.9,), (6.0,), (6.6,), (6.3,), (7.4,), (5.1,), (4.7,), (5.4,), (6.6,), (6.5,), (6.1,), (5.7,), (6.3,), (7.0,), (4.9,), (6.0,), (6.2,), (5.0,), (5.3,), (5.7,), (6.0,), (4.7,), (5.4,), (4.1,), (6.7,), (6.0,), (6.8,), (7.4,), (4.9,), (7.4,), (6.2,), (6.5,), (4.4,), (5.7,), (5.7,), (4.9,), (5.1,), (6.1,), (5.8,), (5.9,), (7.2,), (5.5,), (6.4,), (6.0,), (4.7,), (5.5,), (5.8,), (6.0,), (8.2,), (5.5,), (6.6,), (6.7,), (6.9,), (5.4,), (6.4,), (5.4,), (6.0,), (7.6,), (5.9,), (6.0,), (7.1,), (5.6,), (7.0,), (7.7,), (6.1,), (5.9,), (6.4,), (7.7,), (6.0,), (7.6,), (6.1,), (6.3,), (6.2,), (5.8,), (5.7,), (6.3,), (5.7,), (6.2,), (5.9,), (6.7,), (6.4,), (7.0,), (5.3,), (6.0,), (6.2,), (5.1,), (5.4,), (6.4,), (7.3,), (5.3,), (5.7,), (7.0,), (6.6,), (5.4,), (6.1,), (5.2,), (5.7,), (6.2,), (4.2,), (6.9,), (7.1,), (7.3,), (5.3,), (6.2,), (7.5,), (5.2,), (7.1,), (6.1,), (5.4,), (6.5,), (3.5,), (5.7,), (5.5,), (7.4,), (7.4,), (5.4,), (6.3,), (6.7,), (7.2,), (6.8,), (5.9,), (5.4,), (7.7,), (6.7,), (5.6,), (6.4,), (5.7,), (5.1,), (7.2,), (5.9,), (6.9,), (7.8,), (6.1,), (5.1,), (6.1,), (5.3,), (5.1,), (5.6,), (7.3,), (6.5,), (6.6,), (6.7,), (6.3,), (7.2,), (7.0,), (6.0,), (5.6,), (6.6,), (7.1,), (6.3,), (7.0,), (7.2,), (6.4,), (6.2,), (6.9,), (5.8,), (5.6,), (7.3,), (6.7,), (5.0,), (6.5,), (5.9,), (5.5,), (5.4,), (7.0,), (5.2,), (5.2,), (7.0,), (6.3,), (6.8,), (5.5,), (7.7,), (6.0,), (6.2,), (5.1,), (6.0,), (5.7,), (6.3,), (5.9,), (6.3,), (7.0,), (7.3,), (5.6,), (6.4,), (6.0,), (7.5,), (6.3,), (6.1,), (6.1,), (6.8,), (5.8,), (5.5,), (6.2,), (7.2,), (5.8,), (6.1,), (6.1,), (6.1,), (4.5,), (4.4,), (6.3,), (5.9,), (6.2,), (6.3,), (4.4,), (5.0,), (5.8,), (6.0,), (6.0,), (6.0,), (5.9,), (6.0,), (6.2,), (6.1,), (6.0,), (5.6,), (7.6,), (7.1,), (6.6,), (7.3,), (5.4,), (6.3,), (7.2,), (5.8,), (6.2,), (5.2,), (5.8,), (5.9,), (5.8,), (5.5,), (6.5,), (6.0,), (5.2,), (5.6,), (5.6,), (5.9,), (4.7,), (5.0,), (5.4,), (5.3,), (3.9,), (5.7,), (6.2,), (7.2,), (6.9,), (7.6,), (6.5,), (6.6,), (6.5,), (6.5,), (4.3,), (6.6,), (6.1,), (6.0,), (7.1,), (6.0,), (5.6,), (6.6,), (6.9,), (6.1,), (6.5,), (5.7,), (6.6,), (5.9,), (6.6,), (6.5,), (7.2,), (7.7,), (4.6,), (5.7,), (6.3,), (5.5,), (6.8,), (7.0,), (4.4,), (6.2,), (6.4,), (6.6,), (6.5,), (5.0,), (6.1,), (5.8,), (6.1,), (5.8,), (6.0,), (6.3,), (6.4,), (7.0,), (6.3,), (5.6,), (7.9,), (7.3,), (6.9,), (5.4,), (6.5,), (6.5,), (7.3,), (5.9,), (4.7,), (5.8,), (7.0,), (6.8,), (6.6,), (5.5,), (5.9,), (6.2,), (5.6,), (6.6,), (4.3,), (6.1,), (6.6,), (6.4,), (6.1,), (5.9,), (6.2,), (6.1,), (6.0,), (5.5,), (6.5,), (7.1,), (6.7,), (6.2,), (5.4,), (4.7,), (5.5,), (5.3,), (6.5,), (6.1,), (4.7,), (5.8,), (7.1,), (6.7,), (6.0,), (6.3,), (6.6,), (5.0,), (6.3,), (6.4,), (4.0,), (6.0,), (2.3,), (7.1,), (7.2,), (5.5,), (7.3,), (6.3,), (5.5,), (6.9,), (6.4,), (6.4,), (5.6,), (7.0,), (6.0,), (6.6,), (5.3,), (6.6,), (6.8,), (6.3,), (6.7,), (7.0,), (6.5,), (5.8,), (5.4,), (6.5,), (6.7,), (6.0,), (6.1,), (6.5,), (6.1,), (5.4,), (5.9,), (5.6,), (5.7,), (4.0,), (7.0,), (7.2,), (5.3,), (6.1,), (6.3,), (6.8,), (6.8,), (5.3,), (6.6,), (5.3,), (7.7,), (6.2,), (5.6,), (6.9,), (6.8,), (6.7,), (6.2,), (7.4,), (6.3,), (5.2,), (4.7,), (7.0,), (6.0,), (7.4,), (6.7,), (7.0,), (7.1,), (6.2,), (5.3,), (5.7,), (7.1,), (5.9,), (7.1,), (6.6,), (6.8,), (7.0,), (5.4,), (6.7,), (7.1,), (6.1,), (7.1,), (7.2,), (7.2,), (6.2,), (6.5,), (5.7,), (7.5,), (5.4,), (5.8,), (6.1,), (6.2,), (5.4,), (7.2,), (6.0,), (5.9,), (5.9,), (6.2,), (5.0,), (7.3,), (7.0,), (6.5,), (8.0,), (6.1,), (5.7,), (7.3,), (6.2,), (6.0,), (5.8,), (6.4,), (6.5,), (6.4,), (6.5,), (6.0,), (6.8,), (6.7,), (5.8,), (6.8,), (5.8,), (4.9,), (5.4,), (5.7,), (6.2,), (6.5,), (5.4,), (6.1,), (6.1,), (6.7,), (5.3,), (5.0,), (5.9,), (5.3,), (7.0,), (5.9,), (5.5,), (5.8,), (5.4,), (6.9,), (6.1,), (6.3,), (5.6,), (6.7,), (4.9,), (5.0,), (4.6,), (5.2,), (6.4,), (6.4,), (5.4,), (7.2,), (5.9,), (6.5,), (6.9,), (5.7,), (5.9,), (4.7,), (6.0,), (4.9,), (6.5,), (5.7,), (4.8,), (7.0,), (4.2,), (7.5,), (5.7,), (5.7,), (7.8,), (5.5,), (5.6,), (6.6,), (5.9,), (3.2,), (5.5,), (5.9,), (6.3,), (5.2,), (4.2,), (6.5,), (6.1,), (5.0,), (4.8,), (7.0,), (6.0,), (5.4,), (5.5,), (5.1,), (6.6,), (6.2,), (6.6,), (7.1,), (6.3,), (4.3,), (6.7,), (6.5,), (5.9,), (7.3,), (7.5,), (6.7,), (5.8,), (6.6,), (7.4,), (4.5,), (5.3,), (6.0,), (7.1,), (6.0,), (6.4,), (5.5,), (5.3,), (6.4,), (6.3,), (6.7,), (6.8,), (7.2,), (6.2,), (5.7,), (5.0,), (5.6,), (5.5,), (6.3,), (5.7,), (6.0,), (6.9,), (6.3,), (7.8,), (6.2,), (5.8,), (5.4,), (6.2,), (7.0,), (4.3,), (7.1,), (5.6,), (7.3,), (7.0,), (5.8,), (6.5,), (5.6,), (7.7,), (7.5,), (5.3,), (5.9,), (6.7,), (5.8,), (7.0,), (6.1,), (6.8,), (5.3,), (6.6,), (5.8,), (6.0,), (6.7,), (5.4,), (5.8,), (5.2,), (6.2,), (6.3,), (5.8,), (7.5,), (4.6,), (5.2,), (5.3,), (7.2,), (6.5,), (6.2,), (7.0,), (5.9,), (6.4,), (7.2,), (5.5,), (6.5,), (7.2,), (7.0,), (6.2,), (5.6,), (7.0,), (6.5,), (5.9,), (5.5,), (7.0,), (7.7,), (5.8,), (6.3,), (5.5,), (7.2,), (6.0,), (6.3,), (6.8,), (6.0,), (6.8,), (6.5,), (5.6,), (7.3,), (7.2,), (5.6,), (5.2,), (6.2,), (5.2,), (5.2,), (5.8,), (7.4,), (6.4,), (7.0,), (6.0,), (5.2,), (6.7,), (5.7,), (5.9,), (5.1,), (6.9,), (4.1,), (8.0,), (6.4,), (5.5,), (6.7,), (6.0,), (6.0,), (5.4,), (5.9,), (5.9,), (6.3,), (6.1,), (5.8,), (5.1,), (6.3,), (5.6,), (6.0,), (6.1,), (5.5,), (5.9,), (7.0,), (5.6,), (5.2,), (6.9,), (4.9,), (5.7,), (5.1,), (6.2,), (5.4,), (6.5,), (5.7,), (6.0,), (4.6,), (5.3,), (5.8,), (6.0,), (5.7,), (6.6,), (6.4,), (5.7,), (7.0,), (5.3,), (6.5,), (4.7,), (5.5,), (4.8,), (5.6,), (4.9,), (6.9,), (4.7,), (6.5,), (6.6,), (7.7,), (6.6,), (6.2,), (7.4,), (6.7,), (6.6,), (7.0,), (5.8,), (0.0,), (7.0,), (5.0,), (7.0,), (6.8,), (5.3,), (5.1,), (7.5,), (7.3,), (5.4,), (5.3,), (5.4,), (6.5,), (7.1,), (7.1,), (5.3,), (5.6,), (6.3,), (4.8,), (6.7,), (5.1,), (4.9,), (6.1,), (6.6,), (6.3,), (5.7,), (7.9,), (5.8,), (7.2,), (5.3,), (6.4,), (6.2,), (5.3,), (6.7,), (5.6,), (6.5,), (6.3,), (6.0,), (7.0,), (6.0,), (5.7,), (5.3,), (7.1,), (6.7,), (6.3,), (6.7,), (5.6,), (6.3,), (6.9,), (6.2,), (6.3,), (5.6,), (6.6,), (6.2,), (4.0,), (5.4,), (5.3,), (7.1,), (7.2,), (5.9,), (5.0,), (8.0,), (6.0,), (6.9,), (5.7,), (7.0,), (6.5,), (5.9,), (8.0,), (6.4,), (6.2,), (7.0,), (6.2,), (6.4,), (6.9,), (6.1,), (6.0,), (7.7,), (6.8,), (7.0,), (6.0,), (7.4,), (7.2,), (7.2,), (6.2,), (6.7,), (6.1,), (6.5,), (6.5,), (8.1,), (7.3,), (6.7,), (7.6,), (7.7,), (6.4,), (7.7,), (6.1,), (6.0,), (6.0,), (5.9,), (7.2,), (6.7,), (6.7,), (6.4,), (6.6,), (4.9,), (6.0,), (5.8,), (6.4,), (6.7,), (5.8,), (5.8,), (5.9,), (5.3,), (6.3,), (7.4,), (5.5,), (7.4,), (5.8,), (5.6,), (5.7,), (6.3,), (6.0,), (6.8,), (6.9,), (5.1,), (7.4,), (6.6,), (6.2,), (4.9,), (7.2,), (7.2,), (7.2,), (7.3,), (6.2,), (7.4,), (6.9,), (6.6,), (5.6,), (7.1,), (6.2,), (6.5,), (3.7,), (7.2,), (6.4,), (6.6,), (6.5,), (3.8,), (5.7,), (5.8,), (6.6,), (6.5,), (5.1,), (6.6,), (6.4,), (5.9,), (6.8,), (4.1,), (6.3,), (6.4,), (6.2,), (5.4,), (4.8,), (5.9,), (5.8,), (5.2,), (5.7,), (5.0,), (6.9,), (4.8,), (6.0,), (6.0,), (5.2,), (5.4,), (6.6,), (5.7,), (6.8,), (5.5,), (5.5,), (5.1,), (6.3,), (5.1,), (5.0,), (6.7,), (6.0,), (6.4,), (4.0,), (5.4,), (2.9,), (5.7,), (4.7,), (6.1,), (4.8,), (6.7,), (6.3,), (7.2,), (5.5,), (5.8,), (7.4,), (8.2,), (5.9,), (6.7,), (6.0,), (5.4,), (6.3,), (5.0,), (5.0,), (7.0,), (5.0,), (5.9,), (5.4,), (6.4,), (5.5,), (7.0,), (3.0,), (5.8,), (6.4,), (6.6,), (5.6,), (6.8,), (7.3,), (5.9,), (5.8,), (7.2,), (6.6,), (5.0,), (5.5,), (6.9,), (6.3,), (4.9,), (6.8,), (7.4,), (7.7,), (7.1,), (5.7,), (6.1,), (6.6,), (6.2,), (7.5,), (6.4,), (7.3,), (6.2,), (7.0,), (6.8,), (5.5,), (6.5,), (7.4,), (7.1,), (6.4,), (6.3,), (6.6,), (5.5,), (6.1,), (6.9,), (6.4,), (6.1,), (7.1,), (5.6,), (4.6,), (6.1,), (7.7,), (7.9,), (6.5,), (6.0,), (6.5,), (4.5,), (7.0,), (5.8,), (6.0,), (5.5,), (5.5,), (4.8,), (5.8,), (5.5,), (6.8,), (6.2,), (6.3,), (5.6,), (5.7,), (6.2,), (6.2,), (7.1,), (5.7,), (6.9,), (6.9,), (6.2,), (6.7,), (5.6,), (6.2,), (7.5,), (6.0,), (6.7,), (6.6,), (5.5,), (7.4,), (7.3,), (6.3,), (7.0,), (7.2,), (6.7,), (6.7,), (5.9,), (6.1,), (5.5,), (6.8,), (4.4,), (6.5,), (5.9,), (5.9,), (6.3,), (5.2,), (5.9,), (6.9,), (5.2,), (6.0,), (6.2,), (6.8,), (6.2,), (5.8,), (6.6,), (6.8,), (7.0,), (6.3,), (6.9,), (6.2,), (5.9,), (7.3,), (5.2,), (6.1,), (5.9,), (4.9,), (7.1,), (6.8,), (5.2,), (5.7,), (5.8,), (6.1,), (4.8,), (4.5,), (5.5,), (6.0,), (6.5,), (3.9,), (5.3,), (6.3,), (6.8,), (6.9,), (7.0,), (7.6,), (7.8,), (6.1,), (7.2,), (7.2,), (6.1,), (8.3,), (7.8,), (5.7,), (5.4,), (4.9,), (5.8,), (4.7,), (5.6,), (6.4,), (5.8,), (7.6,), (7.7,), (6.1,), (6.5,), (6.8,), (5.1,), (5.7,), (6.1,), (7.4,), (6.0,), (7.2,), (5.8,), (6.8,), (7.0,), (7.2,), (7.0,), (6.4,), (6.1,), (6.7,), (8.2,), (5.0,), (6.4,), (8.0,), (6.3,), (7.4,), (6.1,), (5.9,), (7.9,), (5.8,), (5.6,), (5.5,), (6.3,), (6.4,), (5.6,), (5.4,), (6.6,), (6.4,), (5.8,), (5.5,), (5.5,), (5.8,), (7.0,), (6.4,), (6.1,), (4.9,), (6.0,), (7.1,), (7.1,), (5.5,), (6.9,), (4.7,), (5.4,), (4.7,), (8.5,), (4.7,), (6.7,), (5.7,), (6.9,), (5.9,), (6.5,), (7.2,), (6.7,), (6.2,), (6.6,), (6.2,), (5.4,), (6.0,), (6.9,), (6.5,), (4.6,), (5.4,), (4.7,), (5.0,), (6.9,), (5.4,), (5.6,), (4.3,), (5.2,), (6.3,), (5.2,), (4.4,), (6.7,), (6.3,), (4.9,), (7.0,), (6.5,), (6.2,), (6.2,), (7.0,), (6.0,), (7.1,), (5.6,), (7.7,), (6.7,), (6.6,), (6.1,), (4.6,), (6.2,), (5.8,), (5.3,), (5.5,), (6.4,), (5.7,), (6.8,), (5.0,), (5.5,), (4.8,), (7.3,), (5.5,), (5.1,), (6.4,), (3.5,), (7.0,), (5.9,), (6.1,), (6.2,), (6.6,), (7.7,), (6.0,), (5.6,), (7.1,), (6.0,), (3.8,), (6.3,), (5.0,), (6.2,), (7.0,), (6.5,), (4.1,), (7.0,), (5.5,), (6.9,), (6.5,), (6.1,), (5.4,), (6.4,), (6.2,), (6.4,), (6.6,), (7.2,), (5.1,), (6.1,), (6.1,), (5.9,), (5.9,), (5.5,), (7.6,), (5.5,), (5.8,), (5.9,), (4.7,), (5.7,), (5.0,), (5.3,), (6.5,), (4.1,), (6.8,), (5.4,), (6.1,), (8.2,), (7.2,), (5.9,), (8.2,), (6.5,), (6.6,), (6.4,), (6.5,), (6.7,), (6.0,), (7.9,), (6.3,), (5.1,), (5.9,), (6.4,), (5.6,), (3.5,), (6.6,), (6.5,), (6.6,), (6.1,), (6.6,), (6.6,), (5.8,), (5.9,), (5.5,), (6.5,), (6.5,), (6.7,), (6.8,), (6.9,), (6.5,), (6.3,), (6.5,), (6.0,), (7.3,), (4.6,), (7.4,), (7.3,), (5.6,), (7.2,), (5.9,), (6.6,), (6.1,), (6.0,), (6.8,), (4.7,), (6.2,), (6.0,), (5.4,), (6.0,), (6.3,), (6.4,), (5.4,), (5.7,), (5.3,), (6.4,), (6.1,), (6.2,), (4.2,), (3.6,), (4.9,), (3.8,), (5.2,), (5.9,), (7.2,), (7.2,), (5.5,), (5.9,), (6.2,), (7.4,), (5.2,), (6.7,), (6.5,), (6.5,), (6.3,), (7.0,), (6.0,), (5.6,), (5.5,), (7.1,), (6.9,), (5.1,), (6.3,), (6.9,), (7.5,), (7.0,), (6.6,), (6.4,), (5.1,), (6.7,), (5.8,), (6.5,), (6.6,), (5.5,), (6.3,), (5.9,), (6.7,), (7.7,), (6.3,), (7.2,), (5.0,), (6.1,), (5.4,), (8.1,), (6.5,), (6.4,), (5.9,), (4.9,), (7.4,), (5.2,), (5.0,), (6.7,), (5.4,), (6.3,), (6.7,), (6.7,), (6.9,), (7.9,), (6.2,), (6.1,), (7.5,), (7.6,), (5.9,), (7.4,), (6.3,), (3.6,), (6.1,), (7.4,), (5.6,), (4.6,), (5.8,), (6.3,), (6.7,), (6.8,), (3.2,), (7.8,), (5.9,), (5.2,), (6.0,), (5.9,), (5.8,), (6.1,), (5.8,), (7.0,), (4.2,), (6.9,), (6.5,), (7.0,), (6.6,), (5.3,), (6.4,), (4.6,), (6.2,), (7.1,), (5.7,), (5.3,), (6.0,), (6.3,), (5.4,), (6.3,), (7.0,), (4.7,), (5.8,), (6.6,), (7.9,), (6.0,), (6.3,), (6.7,), (5.8,), (6.0,), (5.9,), (6.0,), (5.3,), (6.5,), (5.3,), (5.2,), (6.3,), (5.1,), (6.7,), (7.1,), (6.3,), (5.8,), (8.2,), (5.4,), (6.7,), (5.6,), (4.9,), (6.8,), (6.5,), (7.1,), (7.8,), (5.6,), (5.0,), (6.9,), (6.4,), (6.3,), (7.2,), (4.3,), (7.3,), (7.2,), (5.8,), (5.3,), (5.0,), (7.0,), (6.5,), (6.2,), (3.0,), (5.5,), (6.5,), (6.2,), (5.8,), (4.8,), (5.9,), (7.0,), (6.1,), (6.4,), (6.0,), (6.1,), (6.4,), (5.7,), (6.7,), (4.5,), (6.2,), (6.4,), (5.6,), (7.3,), (5.4,), (6.3,), (5.6,), (6.5,), (6.5,), (6.5,), (1.9,), (5.4,), (4.7,), (6.4,), (6.5,), (6.5,), (3.2,), (5.9,), (4.1,), (5.3,), (5.8,), (4.7,), (6.7,), (7.0,), (6.2,), (6.8,), (7.0,), (3.1,), (5.4,), (5.9,), (6.5,), (6.3,), (6.3,), (6.6,), (4.8,), (6.8,), (7.4,), (8.2,), (5.7,), (4.9,), (7.1,), (6.8,), (3.3,), (6.9,), (6.5,), (6.0,), (2.2,), (5.4,), (6.4,), (5.8,), (5.9,), (6.2,), (6.1,), (5.8,), (4.5,), (5.5,), (6.0,), (5.3,), (6.6,), (6.3,), (5.3,), (5.0,), (0.5,), (6.1,), (5.4,), (6.1,), (7.1,), (7.1,), (7.6,), (5.4,), (6.7,), (6.1,), (7.0,), (5.4,), (8.1,), (8.0,), (5.5,), (6.0,), (3.9,), (5.9,), (5.3,), (6.5,), (4.6,), (6.2,), (8.3,), (5.9,), (6.5,), (7.4,), (6.0,), (6.4,), (6.0,), (6.2,), (5.8,), (5.6,), (6.1,), (6.8,), (6.0,), (7.3,), (6.0,), (5.8,), (7.2,), (6.0,), (6.2,), (6.6,), (6.9,), (6.5,), (6.1,), (6.4,), (6.3,), (5.5,), (3.7,), (6.2,), (5.6,), (6.5,), (6.5,), (5.5,), (6.3,), (7.3,), (7.8,), (4.8,), (6.9,), (6.4,), (6.8,), (5.9,), (7.4,), (7.0,), (6.9,), (6.0,), (4.9,), (6.4,), (6.9,), (6.7,), (5.6,), (5.8,), (7.7,), (5.6,), (6.7,), (5.5,), (7.0,), (6.4,), (6.8,), (5.4,), (4.9,), (7.2,), (6.8,), (5.1,), (5.9,), (3.7,), (6.2,), (7.3,), (4.9,), (6.9,), (5.7,), (5.6,), (6.4,), (5.8,), (6.5,), (6.7,), (7.3,), (6.7,), (6.5,), (6.9,), (3.5,), (7.3,), (6.8,), (6.2,), (6.2,), (6.7,), (7.2,), (5.3,), (5.9,), (7.0,), (6.7,), (4.4,), (6.7,), (5.6,), (9.3,), (6.9,), (4.5,), (6.7,), (5.0,), (6.0,), (7.0,), (6.4,), (5.7,), (6.5,), (5.9,), (7.5,), (5.9,), (5.8,), (4.6,), (5.4,), (7.4,), (7.7,), (7.4,), (5.6,), (6.4,), (6.9,), (5.8,), (7.4,), (4.7,), (6.7,), (6.4,), (5.8,), (5.2,), (5.9,), (6.0,), (6.1,), (5.1,), (7.4,), (5.6,), (6.0,), (7.3,), (4.8,), (6.9,), (4.6,), (3.3,), (6.3,), (6.2,), (6.3,), (6.4,), (5.6,), (4.9,), (4.1,), (3.0,), (7.0,), (5.5,), (2.9,), (7.1,), (5.6,), (6.8,), (6.1,), (5.2,), (6.5,), (5.0,), (4.5,), (7.0,), (5.8,), (7.0,), (7.2,), (6.9,), (6.0,), (7.0,), (8.1,), (6.5,), (7.3,), (7.4,), (5.9,), (6.0,), (7.3,), (4.8,), (7.6,), (5.9,), (6.4,), (3.7,), (7.6,), (4.8,), (7.4,), (5.3,), (5.5,), (5.3,), (7.4,), (4.6,), (6.7,), (6.4,), (5.4,), (7.2,), (5.3,), (5.4,), (7.0,), (6.9,), (5.7,), (5.3,), (7.6,), (6.8,), (4.6,), (5.1,), (5.5,), (6.4,), (6.7,), (6.8,), (6.7,), (4.3,), (6.2,), (6.9,), (6.5,), (4.7,), (6.8,), (6.3,), (7.2,), (4.8,), (7.7,), (6.7,), (6.4,), (4.2,), (5.7,), (5.3,), (5.5,), (6.2,), (6.3,), (6.8,), (7.1,), (5.8,), (6.9,), (6.7,), (7.2,), (7.9,), (7.6,), (5.7,), (6.4,), (7.7,), (6.5,), (8.0,), (6.0,), (7.2,), (5.9,), (6.0,), (7.1,), (6.0,), (6.8,), (7.1,), (6.1,), (7.0,), (6.1,), (5.4,), (5.6,), (7.8,), (6.7,), (5.7,), (5.8,), (5.9,), (6.2,), (6.9,), (6.6,), (5.5,), (7.2,), (5.8,), (7.8,), (4.7,), (6.9,), (7.8,), (5.1,), (7.0,), (6.2,), (6.2,), (4.5,), (7.6,), (6.9,), (7.4,), (5.1,), (5.6,), (6.5,), (6.3,), (6.1,), (7.4,), (6.9,), (4.7,), (4.3,), (6.3,), (7.3,), (6.1,), (7.5,), (7.5,), (5.5,), (6.1,), (5.2,), (4.4,), (6.4,), (5.0,), (6.0,), (5.9,), (5.5,), (6.8,), (6.0,), (5.3,), (7.2,), (5.9,), (5.8,), (6.5,), (4.6,), (5.9,), (6.7,), (4.4,), (5.1,), (7.0,), (6.7,), (5.9,), (6.4,), (5.3,), (6.3,), (6.2,), (2.9,), (5.2,), (4.8,), (5.4,), (7.5,), (6.0,), (7.8,), (6.6,), (6.5,), (6.7,), (5.0,), (4.7,), (6.7,), (4.7,), (5.5,), (7.4,), (5.6,), (5.6,), (5.0,), (6.0,), (6.8,), (4.7,), (7.0,), (6.0,), (7.2,), (6.1,), (7.6,), (5.4,), (5.8,), (6.8,), (7.0,), (6.5,), (4.8,), (6.5,), (6.3,), (5.5,), (6.6,), (8.0,), (6.5,), (6.7,), (6.6,), (6.5,), (7.4,), (6.0,), (5.9,), (5.0,), (6.0,), (5.2,), (4.8,), (6.1,), (5.7,), (5.6,), (5.8,), (5.6,), (4.8,), (7.3,), (6.7,), (4.5,), (7.4,), (6.3,), (6.7,), (7.2,), (5.8,), (7.7,), (6.9,), (7.6,), (6.6,), (7.0,), (5.5,), (5.0,), (6.7,), (6.8,), (5.3,), (6.1,), (6.6,), (5.6,), (6.2,), (6.5,), (5.1,), (6.2,), (6.4,), (6.9,), (5.8,), (4.5,), (4.5,), (5.3,), (4.4,), (6.2,), (5.7,), (5.6,), (5.8,), (5.5,), (6.1,), (6.7,), (5.0,), (4.5,), (6.4,), (5.3,), (5.5,), (7.4,), (6.9,), (5.5,), (6.2,), (6.4,), (4.4,), (5.2,), (6.3,), (5.8,), (6.3,), (5.8,), (7.1,), (6.7,), (6.3,), (6.1,), (4.0,), (7.4,), (7.5,), (6.9,), (6.9,), (5.0,), (6.8,), (6.7,), (6.0,), (7.7,), (7.2,), (6.0,), (7.1,), (4.7,), (4.8,), (7.3,), (8.3,), (6.3,), (5.8,), (6.7,), (5.2,), (6.6,), (7.1,), (6.0,), (7.3,), (5.7,), (5.7,), (6.2,), (7.3,), (4.8,), (7.1,), (3.3,), (6.1,), (5.7,), (5.8,), (5.6,), (6.7,), (7.6,), (7.3,), (6.6,), (5.7,), (6.6,), (7.2,), (6.2,), (5.5,), (8.1,), (6.5,), (6.4,), (5.7,), (6.6,), (5.5,), (5.1,), (6.1,), (5.7,), (6.8,), (5.9,), (5.4,), (6.7,), (5.9,), (4.8,), (6.5,), (7.7,), (4.5,), (6.4,), (5.6,), (4.6,), (6.3,), (5.8,), (6.6,), (5.8,), (5.3,), (6.4,), (7.1,), (6.7,), (6.9,), (7.5,), (5.9,), (7.5,), (6.0,), (6.0,), (5.4,), (8.4,), (7.1,), (7.7,), (7.6,), (6.2,), (7.3,), (5.8,), (6.3,), (6.0,), (7.0,), (7.4,), (6.3,), (7.5,), (7.5,), (6.4,), (7.6,), (5.6,), (6.9,), (6.2,), (7.3,), (6.4,), (7.0,), (7.0,), (6.3,), (6.7,), (6.5,), (7.3,), (6.2,), (6.6,), (6.2,), (6.6,), (4.7,), (6.5,), (7.3,), (6.6,), (5.5,), (5.5,), (4.7,), (6.3,), (7.2,), (7.3,), (6.5,), (7.6,), (6.9,), (6.3,), (5.4,), (6.5,), (7.4,), (6.4,), (6.6,), (5.8,), (6.1,), (4.3,), (7.4,), (6.7,), (5.4,), (5.6,), (6.6,), (5.3,), (5.3,), (6.1,), (6.1,), (6.4,), (6.4,), (7.9,), (4.6,), (7.8,), (7.1,), (6.1,), (6.4,), (6.9,), (4.9,), (5.7,), (5.9,), (6.0,), (5.8,), (3.0,), (5.7,), (4.6,), (6.6,), (6.0,), (6.7,), (6.8,), (6.9,), (6.5,), (7.3,), (6.4,), (6.5,), (6.9,), (6.1,), (6.9,), (6.5,), (6.8,), (6.2,), (6.1,), (6.1,), (5.3,), (6.8,), (6.5,), (5.2,), (4.8,), (6.7,), (7.6,), (3.0,), (6.3,), (5.8,), (6.9,), (4.3,), (6.0,), (7.7,), (4.3,), (6.4,), (7.5,), (5.5,), (6.3,), (6.9,), (8.1,), (5.7,), (7.4,), (7.1,), (6.2,), (7.2,), (6.4,), (7.3,), (7.3,), (3.9,), (6.6,), (5.6,), (6.7,), (7.5,), (7.3,), (6.6,), (6.0,), (6.5,), (7.4,), (4.1,), (5.9,), (6.4,), (5.5,), (7.2,), (7.7,), (5.8,), (5.7,), (6.3,), (4.9,), (7.0,), (7.3,), (6.6,), (7.3,), (5.4,), (7.5,), (8.2,), (6.8,), (5.1,), (6.6,), (7.2,), (5.8,), (5.1,), (5.9,), (6.0,), (6.2,), (5.6,), (5.9,), (7.3,), (5.9,), (5.7,), (6.1,), (6.3,), (5.2,), (5.6,), (7.9,), (7.3,), (5.8,), (6.8,), (8.5,), (5.2,), (5.0,), (6.4,), (7.0,), (7.9,), (5.3,), (6.1,), (6.5,), (5.8,), (6.1,), (5.7,), (5.9,), (5.6,), (6.0,), (6.7,), (7.2,), (6.4,), (5.8,), (6.5,), (6.1,), (6.7,), (7.0,), (6.9,), (6.6,), (5.9,), (6.4,), (5.8,), (5.8,), (6.0,), (6.2,), (6.4,), (5.4,), (6.4,), (6.8,), (5.5,), (6.2,), (6.3,), (6.0,), (5.0,), (5.3,), (6.1,), (6.9,), (6.2,), (6.9,), (5.4,), (5.8,), (5.0,), (5.8,), (6.4,), (5.2,), (5.3,), (6.1,), (7.5,), (4.7,), (6.3,), (6.4,), (5.5,), (6.3,), (6.1,), (6.6,), (6.0,), (6.6,), (6.0,), (7.0,), (5.6,), (8.0,), (5.4,), (5.6,), (6.6,), (6.2,), (8.1,), (6.7,), (6.1,), (5.5,), (7.4,), (6.4,), (6.8,), (6.2,), (5.3,), (6.4,), (5.1,), (6.8,), (4.4,), (5.3,), (6.3,), (5.9,), (8.2,), (5.9,), (5.5,), (7.3,), (7.7,), (5.5,), (6.4,), (6.2,), (3.8,), (6.5,), (4.1,), (6.9,), (6.6,), (6.1,), (6.9,), (5.4,), (5.7,), (6.6,), (7.2,), (6.4,), (6.8,), (7.3,), (4.4,), (6.3,), (4.8,), (6.0,), (5.8,), (7.0,), (6.4,), (5.4,), (6.8,), (6.4,), (5.5,), (6.2,), (6.5,), (6.1,), (6.8,), (4.9,), (6.0,), (6.3,), (4.8,), (5.6,), (6.6,), (5.5,), (6.4,), (6.5,), (5.3,), (5.9,), (6.3,), (6.4,), (6.5,), (6.4,), (6.0,), (6.4,), (4.1,), (6.0,), (5.8,), (6.2,), (3.0,), (4.8,), (5.4,), (4.7,), (5.8,), (5.1,), (7.0,), (3.9,), (5.7,), (5.4,), (6.4,), (5.6,), (4.3,), (6.1,), (6.5,), (6.4,), (6.9,), (4.3,), (4.0,), (6.4,), (5.0,), (7.1,), (4.9,), (6.7,), (6.4,), (6.0,), (6.4,), (4.3,), (6.5,), (6.1,), (7.5,), (4.5,), (4.9,), (7.0,), (7.3,), (6.2,), (6.2,), (6.9,), (5.1,), (6.0,), (7.0,), (7.1,), (7.3,), (7.9,), (7.2,), (6.3,), (7.4,), (6.5,), (5.7,), (7.0,), (6.9,), (6.8,), (6.3,), (7.3,), (6.6,), (4.9,), (6.6,), (6.7,), (6.5,), (7.1,), (4.8,), (5.8,), (7.4,), (6.8,), (6.3,), (6.4,), (6.5,), (6.0,), (6.8,), (5.7,), (6.0,), (5.5,), (6.1,), (6.9,), (7.2,), (6.8,), (5.1,), (6.0,), (5.8,), (7.0,), (4.8,), (6.1,), (6.8,), (4.5,), (7.0,), (5.6,), (5.8,), (6.3,), (5.2,), (5.9,), (7.3,), (7.9,), (6.3,), (8.0,), (5.6,), (6.8,), (6.8,), (6.8,), (5.6,), (5.7,), (6.1,), (6.7,), (6.8,), (6.8,), (3.4,), (5.6,), (6.6,), (6.8,), (7.7,), (6.6,), (7.0,), (6.6,), (7.1,), (7.2,), (7.0,), (6.7,), (4.3,), (8.3,), (7.0,), (7.6,), (5.1,), (7.4,), (6.1,), (7.5,), (7.8,), (7.1,), (4.8,), (7.2,), (7.0,), (5.7,), (7.0,), (5.3,), (6.1,), (5.6,), (7.5,), (7.2,), (6.5,), (6.4,), (5.8,), (6.7,), (6.4,), (5.2,), (7.3,), (6.1,), (6.5,), (5.9,), (5.7,), (6.6,), (6.7,), (3.9,), (6.6,), (5.7,), (4.6,), (4.9,), (5.5,), (6.9,), (7.0,), (7.0,), (6.9,), (5.7,), (6.3,), (6.9,), (6.6,), (6.9,), (6.7,), (4.3,), (7.3,), (7.3,), (5.9,), (5.8,), (4.9,), (5.9,), (7.0,), (6.6,), (5.2,), (6.4,), (5.6,), (6.9,), (6.3,), (5.6,), (5.1,), (7.8,), (5.8,), (6.1,), (4.6,), (4.3,), (7.0,), (7.0,), (6.4,), (5.4,), (5.9,), (4.1,), (7.0,), (6.6,), (6.5,), (6.6,), (7.1,), (5.6,), (6.8,), (5.7,), (5.8,), (6.8,), (4.5,), (4.0,), (6.1,), (5.7,), (5.2,), (7.0,), (6.2,), (5.8,), (6.2,), (6.4,), (6.0,), (7.7,), (5.6,), (7.5,), (6.4,), (6.7,), (4.4,), (7.0,), (5.5,), (6.3,), (8.4,), (6.1,), (7.2,), (7.1,), (6.1,), (4.9,), (6.4,), (6.5,), (6.7,), (6.0,), (6.8,), (6.8,), (6.8,), (6.6,), (6.3,), (4.9,), (6.8,), (7.5,), (4.4,), (6.3,), (6.6,), (7.2,), (6.2,), (6.0,), (4.0,), (6.6,), (6.5,), (5.8,), (7.0,), (7.3,), (7.0,), (5.6,), (6.5,), (6.8,), (3.8,), (5.7,), (6.7,), (7.4,), (6.4,), (6.1,), (6.4,), (6.1,), (6.2,), (7.4,), (5.8,), (5.0,), (4.5,), (6.7,), (6.2,), (7.1,), (6.0,), (5.7,), (2.7,), (6.7,), (5.8,), (6.2,), (7.7,), (7.1,), (5.9,), (6.7,), (6.0,), (6.3,), (7.2,), (5.8,), (5.0,), (5.1,), (6.5,), (7.0,), (6.9,), (7.4,), (6.1,), (6.8,), (5.8,), (6.3,), (6.7,), (6.1,), (5.6,), (7.9,), (5.8,), (5.1,), (7.8,), (5.6,), (5.2,), (7.4,), (6.8,), (6.3,), (6.8,), (6.2,), (7.0,), (5.1,), (7.0,), (4.1,), (7.0,), (7.0,), (7.0,), (8.0,), (6.5,), (6.8,), (7.0,), (7.1,), (6.0,), (7.5,), (7.3,), (7.4,), (7.2,), (7.3,), (6.8,), (7.2,), (7.5,), (6.8,), (7.4,), (7.4,), (7.4,), (7.0,), (6.6,), (6.5,), (7.1,), (8.1,), (5.5,), (5.9,), (7.3,), (6.2,), (6.7,), (6.9,), (6.2,), (4.4,), (6.3,), (6.6,), (5.9,), (6.5,), (5.4,), (7.4,), (5.2,), (6.5,), (8.0,), (6.6,), (6.1,), (6.4,), (5.5,), (6.9,), (6.8,), (4.8,), (7.1,), (6.6,), (5.4,), (6.4,), (5.5,), (7.4,), (6.9,), (6.2,), (6.6,), (6.0,), (5.7,), (7.6,), (6.2,), (6.6,), (7.2,), (4.6,), (4.7,), (5.7,), (6.2,), (5.3,), (5.9,), (6.5,), (6.3,), (4.7,), (8.0,), (6.8,), (5.4,), (5.4,), (5.6,), (6.3,), (5.2,), (7.6,), (7.1,), (7.0,), (5.5,), (6.8,), (4.9,), (7.2,), (5.5,), (6.8,), (10.0,), (6.2,), (6.0,), (4.2,), (4.7,), (6.4,), (3.9,), (7.9,), (6.8,), (6.4,), (7.3,), (5.9,), (7.4,), (7.1,), (6.2,), (3.3,), (7.5,), (5.6,), (6.2,), (7.6,), (4.8,), (6.8,), (7.1,), (5.4,), (7.2,), (6.2,), (5.6,), (4.9,), (7.3,), (7.1,), (6.0,), (7.3,), (5.9,), (7.2,), (5.4,), (6.5,), (6.3,), (6.8,), (6.1,), (6.3,), (5.9,), (4.9,), (6.5,), (7.5,), (5.2,), (6.4,), (6.7,), (5.1,), (7.0,), (6.8,), (5.2,), (7.9,), (7.9,), (5.1,), (8.1,), (6.3,), (6.9,), (7.4,), (7.1,), (4.7,), (6.8,), (5.4,), (6.1,), (6.5,), (5.9,), (7.1,), (6.4,), (6.1,), (5.4,), (6.1,), (7.5,), (6.0,), (6.4,), (4.8,), (6.2,), (5.0,), (5.0,), (7.3,), (7.5,), (4.3,), (6.9,), (5.9,), (5.8,), (6.9,), (5.5,), (5.0,), (6.5,), (6.7,), (6.0,), (5.4,), (4.3,), (6.3,), (6.2,), (5.2,), (6.2,), (6.3,), (6.7,), (6.6,), (4.9,), (6.4,), (6.7,), (6.6,), (6.5,), (8.1,), (6.3,), (7.6,), (5.2,), (5.9,), (6.8,), (6.5,), (6.6,), (4.6,), (7.0,), (5.4,), (6.0,), (6.0,), (7.3,), (5.7,), (6.6,), (6.9,), (5.9,), (6.7,), (5.8,), (3.9,), (6.8,), (5.6,), (6.0,), (6.6,), (6.5,), (7.3,), (6.2,), (6.6,), (5.5,), (4.7,), (6.0,), (6.2,), (3.8,), (4.2,), (7.0,), (6.3,), (5.8,), (3.2,), (7.4,), (3.0,), (6.1,), (5.0,), (4.5,), (4.1,), (6.4,), (0.0,), (4.7,), (3.5,), (7.0,), (7.1,), (7.4,), (6.3,), (5.7,), (6.2,), (7.1,), (6.3,), (6.3,), (5.5,), (5.9,), (7.2,), (5.6,), (4.8,), (4.6,), (7.0,), (1.0,), (7.3,), (5.6,), (5.7,), (5.9,), (6.5,), (5.8,), (6.6,), (7.0,), (6.9,), (7.2,), (6.9,), (7.9,), (6.2,), (6.8,), (7.0,), (5.5,), (7.7,), (6.1,), (7.7,), (6.6,), (6.3,), (7.4,), (6.2,), (6.0,), (7.0,), (6.6,), (7.7,), (5.4,), (5.3,), (8.2,), (6.9,), (6.7,), (7.3,), (8.2,), (5.5,), (5.7,), (7.0,), (6.5,), (7.1,), (5.9,), (6.1,), (6.9,), (6.3,), (6.9,), (6.1,), (4.6,), (7.5,), (7.3,), (7.8,), (6.6,), (6.5,), (5.2,), (7.1,), (4.8,), (6.9,), (4.1,), (6.4,), (6.5,), (7.1,), (7.8,), (5.8,), (4.4,), (7.5,), (6.4,), (5.3,), (5.9,), (6.7,), (6.8,), (5.5,), (4.8,), (7.1,), (5.4,), (6.3,), (6.1,), (5.5,), (6.5,), (6.7,), (3.3,), (6.7,), (7.3,), (5.4,), (6.2,), (6.1,), (5.9,), (6.6,), (8.0,), (5.1,), (6.5,), (5.5,), (6.5,), (5.2,), (6.9,), (6.5,), (7.0,), (6.7,), (6.0,), (5.8,), (8.1,), (6.6,), (6.0,), (4.5,), (6.1,), (4.2,), (7.1,), (6.2,), (6.7,), (6.4,), (6.2,), (6.2,), (5.8,), (7.3,), (7.1,), (5.2,), (6.1,), (5.7,), (4.5,), (6.6,), (4.1,), (5.2,), (4.4,), (7.5,), (7.7,), (7.7,), (6.5,), (6.2,), (7.3,), (7.0,), (6.7,), (6.5,), (6.6,), (6.0,), (6.6,), (7.4,), (6.8,), (7.1,), (5.3,), (7.0,), (7.2,), (5.9,), (6.9,), (7.4,), (7.4,), (6.2,), (7.1,), (6.3,), (5.4,), (5.7,), (6.8,), (7.8,), (4.8,), (7.6,), (5.4,), (3.8,), (5.4,), (6.7,), (5.8,), (6.7,), (5.6,), (2.9,), (5.2,), (2.0,), (0.0,), (4.6,), (7.9,), (0.0,), (3.3,), (5.3,), (5.0,), (3.6,), (6.5,), (6.9,), (6.7,), (6.2,), (6.0,), (8.3,), (8.1,), (6.8,), (6.8,), (6.4,), (7.9,), (7.4,), (6.7,), (6.2,), (4.1,), (8.0,), (6.8,), (7.5,), (7.4,), (6.9,), (6.9,), (6.8,), (6.1,), (7.0,), (7.2,), (5.7,), (8.0,), (7.8,), (6.3,), (5.7,), (7.4,), (7.3,), (6.9,), (5.7,), (6.9,), (6.0,), (6.7,), (5.0,), (7.6,), (6.2,), (5.3,), (5.9,), (5.7,), (7.7,), (4.7,), (6.7,), (8.1,), (4.2,), (6.4,), (6.4,), (6.6,), (7.0,), (5.3,), (7.3,), (7.6,), (4.5,), (7.3,), (3.7,), (7.4,), (3.8,), (6.3,), (5.0,), (5.8,), (6.8,), (6.5,), (3.1,), (5.7,), (6.0,), (7.4,), (5.2,), (5.4,), (7.6,), (6.4,), (5.9,), (6.6,), (7.2,), (6.9,), (7.4,), (6.1,), (5.1,), (8.0,), (6.5,), (5.7,), (5.2,), (6.5,), (5.8,), (6.9,), (5.6,), (4.0,), (5.3,), (3.7,), (5.2,), (6.7,), (6.3,), (3.9,), (5.8,), (5.7,), (6.1,), (4.9,), (3.0,), (0.0,), (5.4,), (5.2,), (5.3,), (2.9,), (5.8,), (7.1,), (0.0,), (4.8,), (4.6,), (2.8,), (6.0,), (6.1,), (6.3,), (7.6,), (7.3,), (4.9,), (4.1,), (6.6,), (6.6,), (6.1,), (4.3,), (6.9,), (8.0,), (5.3,), (7.4,), (7.7,), (5.4,), (7.6,), (6.5,), (7.0,), (9.5,), (4.9,), (6.0,), (7.0,), (6.0,), (7.2,), (5.9,), (7.1,), (7.1,), (5.3,), (7.6,), (7.0,), (7.4,), (5.2,), (7.8,), (7.1,), (5.4,), (4.6,), (6.8,), (5.0,), (6.3,), (7.5,), (7.1,), (7.1,), (7.1,), (7.7,), (6.9,), (6.7,), (6.8,), (5.2,), (6.8,), (7.2,), (6.8,), (7.2,), (7.0,), (7.0,), (7.1,), (5.5,), (6.1,), (6.1,), (6.0,), (6.6,), (5.0,), (4.9,), (4.8,), (7.0,), (4.8,), (6.3,), (4.5,), (7.4,), (3.1,), (7.0,), (4.6,), (10.0,), (6.9,), (4.7,), (5.6,), (6.7,), (7.2,), (0.0,), (5.7,), (5.1,), (6.2,), (6.6,), (5.7,), (5.8,), (5.6,), (3.5,), (5.4,), (5.7,), (7.6,), (6.7,), (7.0,), (0.0,), (7.1,), (4.5,), (5.1,), (4.1,), (6.9,), (5.3,), (7.0,), (6.6,), (6.6,), (8.0,), (7.3,), (7.2,), (7.2,), (5.2,), (7.9,), (6.8,), (7.6,), (6.5,), (7.3,), (6.6,), (7.1,), (7.6,), (7.6,), (6.7,), (6.8,), (6.8,), (7.6,), (4.8,), (7.0,), (7.7,), (6.3,), (7.2,), (6.3,), (5.6,), (4.8,), (5.9,), (6.3,), (7.8,), (7.2,), (6.8,), (7.6,), (6.5,), (6.8,), (7.1,), (5.6,), (4.6,), (6.3,), (6.1,), (5.2,), (5.8,), (7.1,), (5.9,), (6.3,), (5.2,), (5.0,), (5.6,), (5.5,), (6.4,), (5.9,), (6.1,), (6.3,), (6.0,), (6.7,), (5.4,), (5.3,), (6.8,), (6.9,), (6.1,), (5.5,), (5.2,), (0.0,), (6.7,), (3.5,), (5.8,), (7.2,), (4.4,), (5.6,), (5.7,), (6.7,), (6.6,), (5.3,), (6.3,), (5.2,), (6.1,), (5.9,), (3.9,), (4.2,), (4.4,), (4.4,), (6.7,), (6.7,), (5.8,), (6.6,), (7.4,), (7.8,), (5.8,), (5.6,), (7.5,), (5.8,), (6.9,), (5.6,), (7.2,), (7.6,), (8.0,), (6.2,), (6.8,), (5.5,), (5.6,), (5.3,), (6.7,), (6.4,), (5.5,), (6.8,), (6.7,), (6.9,), (5.3,), (0.0,), (4.2,), (5.0,), (7.2,), (6.3,), (4.9,), (7.0,), (6.1,), (6.4,), (6.3,), (5.5,), (6.0,), (7.3,), (5.9,), (7.2,), (7.2,), (7.1,), (6.0,), (6.3,), (4.3,), (6.8,), (4.6,), (7.6,), (7.5,), (0.0,), (6.7,), (6.5,), (4.4,), (6.7,), (6.6,), (7.9,), (6.8,), (6.9,), (5.9,), (4.5,), (7.3,), (6.5,), (7.1,), (6.8,), (6.7,), (7.4,), (6.5,), (6.5,), (5.5,), (6.1,), (6.8,), (6.5,), (3.0,), (6.2,), (5.7,), (4.5,), (5.7,), (8.1,), (6.4,), (5.9,), (3.5,), (6.6,), (6.0,), (6.0,), (6.6,), (6.8,), (5.1,), (6.5,), (6.9,), (6.8,), (6.0,), (6.4,), (2.6,), (7.4,), (4.2,), (3.3,), (7.5,), (6.9,), (6.8,), (5.4,), (5.9,), (5.3,), (5.2,), (6.2,), (0.0,), (6.1,), (7.5,), (0.0,), (7.7,), (6.7,), (5.0,), (6.5,), (6.1,), (0.0,), (2.8,), (5.9,), (2.3,), (3.2,), (5.0,), (7.7,), (6.0,), (7.4,), (5.3,), (5.9,), (5.8,), (6.7,), (6.8,), (4.1,), (6.7,), (7.2,), (6.6,), (0.0,), (5.7,), (6.8,), (6.8,), (6.9,), (6.5,), (6.3,), (8.0,), (6.4,), (8.1,), (7.8,), (5.8,), (6.8,), (0.0,), (4.1,), (0.0,), (6.0,), (3.9,), (6.8,), (4.4,), (6.1,), (6.7,), (4.2,), (2.0,), (6.2,), (7.2,), (6.8,), (6.9,), (6.0,), (5.7,), (7.3,), (3.1,), (4.4,), (7.9,), (6.1,), (7.0,), (6.3,), (7.5,), (4.1,), (6.1,), (5.5,), (8.0,), (6.4,), (6.9,), (4.9,), (6.9,), (5.7,), (5.6,), (5.9,), (6.9,), (6.9,), (4.6,), (6.6,), (5.5,), (6.7,), (6.2,), (7.2,), (5.0,), (7.5,), (6.6,), (7.4,), (6.8,), (6.0,), (6.7,), (6.7,), (6.7,), (6.7,), (7.4,), (5.4,), (6.6,), (7.2,), (6.3,), (6.7,), (6.7,), (7.3,), (6.1,), (6.2,), (5.9,), (6.7,), (6.4,), (6.8,), (6.7,), (7.5,), (5.6,), (7.5,), (6.6,), (4.7,), (2.8,), (4.0,), (7.2,), (6.4,), (4.7,), (3.4,), (6.0,), (6.2,), (6.3,), (5.2,), (6.0,), (5.5,), (4.4,), (6.2,), (5.4,), (6.6,), (0.0,), (3.3,), (8.0,), (6.2,), (6.4,), (4.9,), (5.4,), (3.5,), (6.1,), (5.5,), (6.1,), (4.5,), (4.7,), (4.8,), (7.6,), (5.7,), (5.0,), (3.2,), (4.9,), (5.7,), (5.3,), (6.6,), (4.0,), (3.5,), (4.1,), (6.6,), (5.7,), (5.5,), (5.0,), (7.4,), (8.0,), (5.3,), (7.3,), (5.0,), (6.8,), (6.1,), (7.4,), (7.3,), (5.8,), (6.8,), (6.5,), (6.7,), (0.0,), (5.0,), (5.8,), (6.4,), (5.2,), (6.5,), (5.0,), (2.0,), (7.7,), (7.0,), (6.9,), (5.6,), (7.8,), (7.6,), (7.8,), (6.1,), (7.3,), (0.0,), (3.7,), (6.1,), (6.6,), (5.9,), (6.9,), (8.0,), (6.5,), (6.8,), (7.7,), (6.0,), (5.4,), (7.6,), (5.6,), (4.5,), (5.7,), (3.8,), (7.6,), (7.7,), (5.9,), (6.7,), (6.5,), (5.5,), (6.5,), (0.0,), (0.0,), (5.2,), (4.8,), (6.2,), (0.0,), (5.6,), (4.8,), (5.3,), (7.4,), (6.3,), (7.1,), (6.4,), (5.5,), (0.0,), (6.0,), (3.0,), (5.0,), (6.0,), (4.8,), (7.3,), (0.0,), (4.6,), (6.0,), (7.0,), (4.2,), (6.1,), (5.4,), (5.8,), (5.7,), (7.2,), (7.4,), (6.2,), (7.3,), (7.8,), (7.5,), (6.3,), (7.0,), (5.6,), (4.8,), (7.0,), (6.9,), (4.8,), (4.0,), (5.3,), (6.4,), (6.0,), (7.1,), (8.2,), (6.9,), (4.7,), (4.9,), (5.7,), (4.2,), (6.2,), (6.2,), (4.0,), (5.0,), (4.5,), (6.9,), (7.0,), (5.0,), (5.9,), (0.0,), (7.3,), (3.5,), (3.4,), (6.5,), (0.0,), (5.2,), (6.0,), (0.0,), (5.5,), (5.0,), (6.3,), (4.3,), (7.2,), (6.2,), (5.9,), (0.0,), (6.1,), (7.0,), (6.9,), (4.2,), (6.7,), (6.9,), (5.9,), (7.2,), (7.8,), (7.0,), (1.0,), (7.5,), (5.0,), (6.6,), (5.8,), (5.5,), (6.6,), (5.6,), (7.8,), (7.4,), (6.3,), (5.0,), (7.3,), (6.0,), (5.1,), (6.9,), (4.9,), (6.8,), (4.7,), (8.2,), (7.6,), (7.7,), (6.9,), (8.0,), (6.2,), (6.4,), (6.1,), (6.4,), (0.0,), (6.3,), (6.4,), (4.8,), (7.6,), (7.3,), (5.5,), (7.0,), (3.0,), (5.3,), (2.8,), (7.0,), (5.9,), (6.8,), (0.0,), (0.0,), (6.2,), (5.0,), (5.7,), (6.3,), (6.7,), (6.3,), (6.5,), (5.7,), (5.7,), (5.0,), (6.9,), (5.8,), (7.5,), (4.9,), (6.4,), (5.5,), (7.0,), (4.1,), (5.9,), (6.9,), (6.6,), (4.8,), (5.5,), (0.0,), (6.4,), (5.7,), (5.0,), (4.2,), (5.5,), (0.0,), (7.0,), (7.7,), (6.9,), (0.0,), (6.9,), (5.2,), (4.3,), (6.7,), (6.6,), (6.8,), (7.6,), (5.1,), (6.5,), (6.6,), (6.3,), (8.0,), (8.0,), (4.9,), (5.5,), (4.6,), (5.8,), (0.0,), (7.7,), (7.8,), (6.1,), (7.7,), (6.8,), (4.6,), (6.0,), (0.0,), (6.5,), (0.0,), (7.8,), (7.4,), (6.1,), (0.0,), (0.0,), (6.8,), (4.6,), (5.0,), (5.5,), (7.3,), (4.9,), (5.5,), (5.8,), (0.0,), (7.5,), (0.0,), (7.2,), (6.8,), (7.4,), (0.0,), (6.3,), (6.5,), (5.9,), (7.1,), (6.5,), (0.0,), (6.6,), (4.9,), (7.5,), (5.7,), (7.1,), (4.9,), (6.5,), (0.0,), (6.3,), (7.4,), (5.2,), (7.0,), (5.0,), (7.3,), (5.5,), (6.4,), (7.1,), (6.0,), (3.7,), (3.3,), (6.6,), (4.5,), (5.2,), (4.4,), (6.4,), (6.7,), (5.8,), (6.3,), (6.0,), (6.0,), (5.6,), (5.1,), (5.0,), (8.3,), (6.9,), (5.0,), (5.8,), (5.7,), (6.6,), (6.8,), (6.4,), (7.0,), (2.0,), (3.2,), (7.9,), (3.5,), (6.4,), (0.0,), (6.1,), (0.0,), (6.3,), (7.4,), (6.0,), (6.3,), (6.8,), (5.5,), (6.0,), (6.4,), (0.0,), (6.0,), (6.8,), (4.7,), (6.2,), (0.0,), (5.6,), (4.2,), (6.2,), (6.7,), (6.6,), (2.0,), (7.4,), (6.0,), (0.0,), (6.0,), (6.9,), (7.5,), (6.6,), (5.9,), (7.0,), (5.7,), (6.3,)]\n"
          ]
        }
      ]
    },
    {
      "cell_type": "code",
      "source": [
        "# 2 Columns needed -> release_date, vote_average\n",
        "cur.execute(\"\"\"\n",
        "SELECT original_title\n",
        "FROM movies\n",
        "WHERE release_date>2000-01-01\n",
        "ORDER BY vote_average DESC\n",
        "LIMIT 1\n",
        "\"\"\")\n",
        "most_awarded = cur.fetchall()\n",
        "print(f'The most awarder average rated movie since jan 1st, 2000 is {most_awarded[0][0]}')"
      ],
      "metadata": {
        "colab": {
          "base_uri": "https://localhost:8080/"
        },
        "id": "08P2Lcq2W0Ls",
        "outputId": "304ef564-9357-4d81-a77d-3b6c3ac9a39e"
      },
      "execution_count": null,
      "outputs": [
        {
          "output_type": "stream",
          "name": "stdout",
          "text": [
            "The most awarder average rated movie since jan 1st, 2000 is Stiff Upper Lips\n"
          ]
        }
      ]
    },
    {
      "cell_type": "markdown",
      "source": [
        "## Q9: Find all the movies that has been directed by Brenda Chapman\n",
        "\n",
        "-> KEY?"
      ],
      "metadata": {
        "id": "1j81N62hbn4w"
      }
    },
    {
      "cell_type": "code",
      "source": [
        "movies_df.columns"
      ],
      "metadata": {
        "colab": {
          "base_uri": "https://localhost:8080/"
        },
        "id": "g0W-ivQgW0Pn",
        "outputId": "aa81b3ad-1ede-4c2c-bff6-8a9713e62e07"
      },
      "execution_count": null,
      "outputs": [
        {
          "output_type": "execute_result",
          "data": {
            "text/plain": [
              "Index(['id', 'original_title', 'budget', 'popularity', 'release_data',\n",
              "       'revenue', 'title', 'vote_average', 'vote_count', 'overview', 'tagling',\n",
              "       'uid', 'director_id'],\n",
              "      dtype='object')"
            ]
          },
          "metadata": {},
          "execution_count": 41
        }
      ]
    },
    {
      "cell_type": "code",
      "source": [
        "directors_df.columns"
      ],
      "metadata": {
        "colab": {
          "base_uri": "https://localhost:8080/"
        },
        "id": "NlrO9oxoW0SK",
        "outputId": "9ecff070-8472-437c-87da-4e6dbf03a73f"
      },
      "execution_count": null,
      "outputs": [
        {
          "output_type": "execute_result",
          "data": {
            "text/plain": [
              "Index(['name', 'director_id', 'gender', 'uid', 'department'], dtype='object')"
            ]
          },
          "metadata": {},
          "execution_count": 42
        }
      ]
    },
    {
      "cell_type": "code",
      "source": [
        "cur.execute(\"\"\"\n",
        "SELECT original_title\n",
        "FROM movies\n",
        "LEFT JOIN directors\n",
        "ON movies.director_id = directors.id\n",
        "WHERE directors.name = 'Brenda Chapman'\n",
        "\"\"\")\n",
        "by_brenda_chapman = cur.fetchall()\n",
        "print(f'By Brenda Chapman: {by_brenda_chapman}')\n"
      ],
      "metadata": {
        "id": "98GqF504W0VV",
        "colab": {
          "base_uri": "https://localhost:8080/"
        },
        "outputId": "6fc4bfa4-d4a9-42b3-db5d-2d4ab6d1da79"
      },
      "execution_count": null,
      "outputs": [
        {
          "output_type": "stream",
          "name": "stdout",
          "text": [
            "By Brenda Chapman: [('Brave',)]\n"
          ]
        }
      ]
    },
    {
      "cell_type": "markdown",
      "source": [
        "## Q10: Find out the director who has made the most movies"
      ],
      "metadata": {
        "id": "FQykpZTBselp"
      }
    },
    {
      "cell_type": "code",
      "source": [
        "movies_df.columns"
      ],
      "metadata": {
        "colab": {
          "base_uri": "https://localhost:8080/"
        },
        "id": "p9upW_v3W0Yc",
        "outputId": "e1047c8a-d97d-4572-c963-ba0d61e5c42e"
      },
      "execution_count": null,
      "outputs": [
        {
          "output_type": "execute_result",
          "data": {
            "text/plain": [
              "Index(['id', 'original_title', 'budget', 'popularity', 'release_data',\n",
              "       'revenue', 'title', 'vote_average', 'vote_count', 'overview', 'tagling',\n",
              "       'uid', 'director_id'],\n",
              "      dtype='object')"
            ]
          },
          "metadata": {},
          "execution_count": 56
        }
      ]
    },
    {
      "cell_type": "code",
      "source": [
        "directors_df.columns"
      ],
      "metadata": {
        "colab": {
          "base_uri": "https://localhost:8080/"
        },
        "id": "ERPzaK03W0cJ",
        "outputId": "ddbaa7c4-87c6-4bb9-e568-51a25644c873"
      },
      "execution_count": null,
      "outputs": [
        {
          "output_type": "execute_result",
          "data": {
            "text/plain": [
              "Index(['name', 'director_id', 'gender', 'uid', 'department'], dtype='object')"
            ]
          },
          "metadata": {},
          "execution_count": 57
        }
      ]
    },
    {
      "cell_type": "code",
      "source": [
        "# JOIN, ORDER BY, GROUP BY\n",
        "cur.execute(\"\"\"\n",
        "SELECT name\n",
        "FROM directors\n",
        "JOIN movies\n",
        "ON directors.id = movies.director_id\n",
        "GROUP BY director_id\n",
        "ORDER BY\n",
        "COUNT(name) DESC\n",
        "LIMIT 1\n",
        "\"\"\")\n",
        "mostMovie_director = cur.fetchall()\n",
        "print(f'Most movie directors: {mostMovie_director}')"
      ],
      "metadata": {
        "id": "g8D849rDTpdW",
        "colab": {
          "base_uri": "https://localhost:8080/"
        },
        "outputId": "dd811ecf-abd3-4eee-f61a-7fd8ca6b51cf"
      },
      "execution_count": null,
      "outputs": [
        {
          "output_type": "stream",
          "name": "stdout",
          "text": [
            "Most movie directors: [('Steven Spielberg',)]\n"
          ]
        }
      ]
    },
    {
      "cell_type": "markdown",
      "source": [
        "## Q11: Find out the directors who is most bankable"
      ],
      "metadata": {
        "id": "PBvCgvloxfj5"
      }
    },
    {
      "cell_type": "code",
      "source": [
        "movies_df.columns"
      ],
      "metadata": {
        "colab": {
          "base_uri": "https://localhost:8080/"
        },
        "id": "RzWSoukhx8vX",
        "outputId": "08de3570-f85f-4b6a-dc66-f4cb1caa740d"
      },
      "execution_count": null,
      "outputs": [
        {
          "output_type": "execute_result",
          "data": {
            "text/plain": [
              "Index(['id', 'original_title', 'budget', 'popularity', 'release_data',\n",
              "       'revenue', 'title', 'vote_average', 'vote_count', 'overview', 'tagling',\n",
              "       'uid', 'director_id'],\n",
              "      dtype='object')"
            ]
          },
          "metadata": {},
          "execution_count": 66
        }
      ]
    },
    {
      "cell_type": "code",
      "source": [
        "directors_df.columns"
      ],
      "metadata": {
        "colab": {
          "base_uri": "https://localhost:8080/"
        },
        "id": "_UWAHoc8x8yU",
        "outputId": "7c8d4559-f8fa-438e-b143-15cb5ff62eb9"
      },
      "execution_count": null,
      "outputs": [
        {
          "output_type": "execute_result",
          "data": {
            "text/plain": [
              "Index(['name', 'director_id', 'gender', 'uid', 'department'], dtype='object')"
            ]
          },
          "metadata": {},
          "execution_count": 67
        }
      ]
    },
    {
      "cell_type": "code",
      "source": [
        "# JOIN, ORDER BY, GROUP BY\n",
        "cur.execute(\"\"\"\n",
        "SELECT name\n",
        "FROM directors\n",
        "JOIN movies ON directors.id = movies.director_id\n",
        "GROUP BY directors.id\n",
        "ORDER BY SUM(movies.budget) DESC\n",
        "LIMIT 1\n",
        "\"\"\")\n",
        "most_bankable_director = cur.fetchall()\n",
        "print(f\"Most movie director: {most_bankable_director}\")\n"
      ],
      "metadata": {
        "id": "LJvF_ivVTpgy",
        "colab": {
          "base_uri": "https://localhost:8080/",
          "height": 241
        },
        "outputId": "b4af002f-1126-446a-a418-ca9b9f839198"
      },
      "execution_count": 88,
      "outputs": [
        {
          "output_type": "error",
          "ename": "OperationalError",
          "evalue": "ignored",
          "traceback": [
            "\u001b[0;31m---------------------------------------------------------------------------\u001b[0m",
            "\u001b[0;31mOperationalError\u001b[0m                          Traceback (most recent call last)",
            "\u001b[0;32m<ipython-input-88-8c2d07728943>\u001b[0m in \u001b[0;36m<cell line: 2>\u001b[0;34m()\u001b[0m\n\u001b[1;32m      1\u001b[0m \u001b[0;31m# JOIN, ORDER BY, GROUP BY\u001b[0m\u001b[0;34m\u001b[0m\u001b[0;34m\u001b[0m\u001b[0m\n\u001b[0;32m----> 2\u001b[0;31m cur.execute(\"\"\"\n\u001b[0m\u001b[1;32m      3\u001b[0m \u001b[0mSELECT\u001b[0m \u001b[0mname\u001b[0m\u001b[0;34m\u001b[0m\u001b[0;34m\u001b[0m\u001b[0m\n\u001b[1;32m      4\u001b[0m \u001b[0mFROM\u001b[0m \u001b[0mdirectors\u001b[0m\u001b[0;34m\u001b[0m\u001b[0;34m\u001b[0m\u001b[0m\n\u001b[1;32m      5\u001b[0m \u001b[0mJOIN\u001b[0m \u001b[0mmovies\u001b[0m \u001b[0mON\u001b[0m \u001b[0mdirectors\u001b[0m\u001b[0;34m.\u001b[0m\u001b[0mid\u001b[0m \u001b[0;34m=\u001b[0m \u001b[0mmovies\u001b[0m\u001b[0;34m.\u001b[0m\u001b[0mdirector_id\u001b[0m\u001b[0;34m\u001b[0m\u001b[0;34m\u001b[0m\u001b[0m\n",
            "\u001b[0;31mOperationalError\u001b[0m: disk I/O error"
          ]
        }
      ]
    },
    {
      "cell_type": "markdown",
      "source": [
        "## Q12: Find out the top 10 highest budget making movie"
      ],
      "metadata": {
        "id": "ElsB50Uk0n2l"
      }
    },
    {
      "cell_type": "code",
      "source": [
        "cur.execute(\"\"\"\n",
        "SELECT original_title\n",
        "FROM movies\n",
        "ORDER BY budget DESC\n",
        "LIMIT 10\n",
        "\"\"\")\n",
        "top10 = cur.fetchall()\n",
        "print(f'Top 10: {top10}')\n"
      ],
      "metadata": {
        "colab": {
          "base_uri": "https://localhost:8080/"
        },
        "id": "oaJ58jAnxyI-",
        "outputId": "973a6345-d078-489d-c286-6b7cc194e67d"
      },
      "execution_count": null,
      "outputs": [
        {
          "output_type": "stream",
          "name": "stdout",
          "text": [
            "Top 10: [('Pirates of the Caribbean: On Stranger Tides',), (\"Pirates of the Caribbean: At World's End\",), ('Avengers: Age of Ultron',), ('Superman Returns',), ('John Carter',), ('Tangled',), ('Spider-Man 3',), ('The Lone Ranger',), ('The Dark Knight Rises',), ('Harry Potter and the Half-Blood Prince',)]\n"
          ]
        }
      ]
    },
    {
      "cell_type": "code",
      "source": [
        "# COLAB SPACES\n",
        "!df -h"
      ],
      "metadata": {
        "colab": {
          "base_uri": "https://localhost:8080/"
        },
        "id": "EdOzc2KjxyMD",
        "outputId": "72ba9654-fce8-4bea-f310-0b929433205a"
      },
      "execution_count": null,
      "outputs": [
        {
          "output_type": "stream",
          "name": "stdout",
          "text": [
            "Filesystem      Size  Used Avail Use% Mounted on\n",
            "overlay         108G   25G   84G  23% /\n",
            "tmpfs            64M     0   64M   0% /dev\n",
            "shm             5.8G     0  5.8G   0% /dev/shm\n",
            "/dev/root       2.0G 1005M  952M  52% /usr/sbin/docker-init\n",
            "tmpfs           6.4G   33M  6.4G   1% /var/colab\n",
            "/dev/sda1        41G   26G   15G  64% /etc/hosts\n",
            "tmpfs           6.4G     0  6.4G   0% /proc/acpi\n",
            "tmpfs           6.4G     0  6.4G   0% /proc/scsi\n",
            "tmpfs           6.4G     0  6.4G   0% /sys/firmware\n",
            "drive            15G  148M   15G   1% /content/drive\n"
          ]
        }
      ]
    },
    {
      "cell_type": "markdown",
      "source": [
        "## Q13: Find the top 10 revenue making movies"
      ],
      "metadata": {
        "id": "8yHmsL_r3Q5v"
      }
    },
    {
      "cell_type": "code",
      "source": [
        "cur.execute(\"\"\"\n",
        "SELECT original_title\n",
        "FROM movies\n",
        "ORDER BY revenue DESC\n",
        "LIMIT 10\"\"\")\n",
        "top10 = cur.fetchall()\n",
        "print(f'Top 10 : {top10}')"
      ],
      "metadata": {
        "id": "yCuaESkHxyQE",
        "colab": {
          "base_uri": "https://localhost:8080/"
        },
        "outputId": "929c1636-3396-451f-a0a1-cc0d433d8cfb"
      },
      "execution_count": null,
      "outputs": [
        {
          "output_type": "stream",
          "name": "stdout",
          "text": [
            "Top 10 : [('Avatar',), ('Titanic',), ('The Avengers',), ('Jurassic World',), ('Furious 7',), ('Avengers: Age of Ultron',), ('Frozen',), ('Iron Man 3',), ('Minions',), ('Captain America: Civil War',)]\n"
          ]
        }
      ]
    },
    {
      "cell_type": "markdown",
      "source": [
        "## Q14: Find the top 10 popular movies with highest rating(vote_average)"
      ],
      "metadata": {
        "id": "CxMSVd-R355J"
      }
    },
    {
      "cell_type": "code",
      "source": [
        "movies_df.columns"
      ],
      "metadata": {
        "colab": {
          "base_uri": "https://localhost:8080/"
        },
        "id": "zpiPrN0IxySq",
        "outputId": "db14b338-216d-4d8e-a0e9-ef3126d07b81"
      },
      "execution_count": null,
      "outputs": [
        {
          "output_type": "execute_result",
          "data": {
            "text/plain": [
              "Index(['id', 'original_title', 'budget', 'popularity', 'release_data',\n",
              "       'revenue', 'title', 'vote_average', 'vote_count', 'overview', 'tagling',\n",
              "       'uid', 'director_id'],\n",
              "      dtype='object')"
            ]
          },
          "metadata": {},
          "execution_count": 122
        }
      ]
    },
    {
      "cell_type": "code",
      "source": [
        "query = cur.execute(\"\"\"\n",
        "SELECT original_title\n",
        "FROM movies\n",
        "ORDER BY popularity, vote_average DESC\n",
        "LIMIT 10\n",
        "\"\"\")\n",
        "top10 = cur.fetchall()\n",
        "print(f'Top 10 : {top10}')"
      ],
      "metadata": {
        "colab": {
          "base_uri": "https://localhost:8080/"
        },
        "id": "lq7yBnKcxyWp",
        "outputId": "cdf147ce-2321-40bc-d6bc-7ff750ddbca2"
      },
      "execution_count": null,
      "outputs": [
        {
          "output_type": "stream",
          "name": "stdout",
          "text": [
            "Top 10 : [('Stiff Upper Lips',), ('Dancer, Texas Pop. 81',), ('Sardaarji',), (\"One Man's Hero\",), ('There Goes My Baby',), ('Counting',), ('Déjà Vu',), ('Dolphins and Whales: Tribes of the Ocean',), ('Lake of Fire',), ('Dreaming of Joseph Lees',)]\n"
          ]
        }
      ]
    },
    {
      "cell_type": "markdown",
      "source": [
        "## Q15: Find out the top 10 directors with the number of movies and revenue where revenue should be taken into account for doing the new analysis\n",
        "\n",
        "-> O/p: The directors who has got the hisgest revenue should comes at the top and so on and so forth.\n",
        "\n",
        "* JOIN, ORDER BY"
      ],
      "metadata": {
        "id": "nc4vTj5i5vbv"
      }
    },
    {
      "cell_type": "code",
      "source": [
        "movies_df.columns"
      ],
      "metadata": {
        "colab": {
          "base_uri": "https://localhost:8080/"
        },
        "id": "cjaLYIADYD6T",
        "outputId": "d0989c30-e232-4e15-b9d8-b81b29c43c5b"
      },
      "execution_count": null,
      "outputs": [
        {
          "output_type": "execute_result",
          "data": {
            "text/plain": [
              "Index(['id', 'original_title', 'budget', 'popularity', 'release_data',\n",
              "       'revenue', 'title', 'vote_average', 'vote_count', 'overview', 'tagling',\n",
              "       'uid', 'director_id'],\n",
              "      dtype='object')"
            ]
          },
          "metadata": {},
          "execution_count": 82
        }
      ]
    },
    {
      "cell_type": "code",
      "source": [
        "directors_df.columns"
      ],
      "metadata": {
        "colab": {
          "base_uri": "https://localhost:8080/"
        },
        "id": "nA2OCHRRYHes",
        "outputId": "e8b1e850-b7f7-4148-d9a3-d5f6698b4396"
      },
      "execution_count": null,
      "outputs": [
        {
          "output_type": "execute_result",
          "data": {
            "text/plain": [
              "Index(['name', 'director_id', 'gender', 'uid', 'department'], dtype='object')"
            ]
          },
          "metadata": {},
          "execution_count": 83
        }
      ]
    },
    {
      "cell_type": "code",
      "source": [
        "query = cur.execute(\"\"\"\n",
        "SELECT name\n",
        "FROM directors\n",
        "JOIN movies\n",
        "ON directors.id = movies.director_id\n",
        "GROUP BY directors.id\n",
        "ORDER BY MAX(revenue) DESC\n",
        "LIMIT 10\n",
        "\"\"\")\n",
        "top10 = cur.fetchall()\n",
        "print(f'Top 10 : {top10}')\n",
        "\n",
        "'''\n",
        "SELECT directors.name, COUNT(movies.id) AS num_movies, MAX(movies.revenue) AS max_revenue\n",
        "FROM directors\n",
        "JOIN movies ON directors.id = movies.director_id\n",
        "GROUP BY directors.id\n",
        "ORDER BY MAX(movies.revenue) DESC\n",
        "LIMIT 10\n",
        "'''"
      ],
      "metadata": {
        "colab": {
          "base_uri": "https://localhost:8080/"
        },
        "id": "wwj2JpKnYHhY",
        "outputId": "73d1ff78-2508-4b1e-e45d-8ef89b2e04a6"
      },
      "execution_count": 95,
      "outputs": [
        {
          "output_type": "stream",
          "name": "stdout",
          "text": [
            "Top 10 : [('James Cameron',), ('Joss Whedon',), ('Colin Trevorrow',), ('James Wan',), ('Chris Buck',), ('Shane Black',), ('Kyle Balda',), ('Anthony Russo',), ('Michael Bay',), ('Peter Jackson',)]\n"
          ]
        }
      ]
    },
    {
      "cell_type": "markdown",
      "source": [
        "## Q16: Find out the top 10 directors with the number of movies should be taken into account for doing the new analysis"
      ],
      "metadata": {
        "id": "A6hSH7rn6iAt"
      }
    },
    {
      "cell_type": "code",
      "source": [
        "movies_df.columns"
      ],
      "metadata": {
        "id": "DYY-QcomYEf_",
        "colab": {
          "base_uri": "https://localhost:8080/"
        },
        "outputId": "fa7a6a1a-5e9d-424a-8858-d19803db898c"
      },
      "execution_count": 93,
      "outputs": [
        {
          "output_type": "execute_result",
          "data": {
            "text/plain": [
              "Index(['id', 'original_title', 'budget', 'popularity', 'release_data',\n",
              "       'revenue', 'title', 'vote_average', 'vote_count', 'overview', 'tagling',\n",
              "       'uid', 'director_id'],\n",
              "      dtype='object')"
            ]
          },
          "metadata": {},
          "execution_count": 93
        }
      ]
    },
    {
      "cell_type": "code",
      "source": [
        "directors_df.columns"
      ],
      "metadata": {
        "id": "JXa4VAkiYFoh",
        "colab": {
          "base_uri": "https://localhost:8080/"
        },
        "outputId": "839aa8a9-adcb-45e9-e4c1-4b7a26971d25"
      },
      "execution_count": 94,
      "outputs": [
        {
          "output_type": "execute_result",
          "data": {
            "text/plain": [
              "Index(['name', 'director_id', 'gender', 'uid', 'department'], dtype='object')"
            ]
          },
          "metadata": {},
          "execution_count": 94
        }
      ]
    },
    {
      "cell_type": "code",
      "source": [
        "cur.execute(\"\"\"\n",
        "SELECT directors.name, COUNT(movies.title) AS num_movies\n",
        "FROM directors\n",
        "JOIN movies ON directors.id = movies.director_id\n",
        "GROUP BY directors.id\n",
        "ORDER BY COUNT(movies.title) DESC\n",
        "L\n",
        "\"\"\")\n",
        "top10 = cur.fetchall()\n",
        "print(f'Top 10 : {top10}')"
      ],
      "metadata": {
        "id": "UAUwGRUfYFrc",
        "colab": {
          "base_uri": "https://localhost:8080/"
        },
        "outputId": "43c5773e-9097-47c2-caa0-99b1494ab794"
      },
      "execution_count": 97,
      "outputs": [
        {
          "output_type": "stream",
          "name": "stdout",
          "text": [
            "Top 10 : [('Steven Spielberg', 27), ('Woody Allen', 21), ('Clint Eastwood', 20), ('Martin Scorsese', 20), ('Spike Lee', 16), ('Robert Rodriguez', 16), ('Ridley Scott', 16), ('Renny Harlin', 15), ('Steven Soderbergh', 15), ('Oliver Stone', 14)]\n"
          ]
        }
      ]
    },
    {
      "cell_type": "markdown",
      "source": [
        "## Q17: Give the title, release date, budget, revenue, popularity, vote average and those movies made by Steven Spielberg"
      ],
      "metadata": {
        "id": "c3vYVIgw60mG"
      }
    },
    {
      "cell_type": "code",
      "source": [
        "cur.execute(\"\"\"\n",
        "SELECT title, release_date, budget, revenue, popularity, vote_average\n",
        "FROM directors\n",
        "JOIN movies ON directors.id = movies.director_id\n",
        "WHERE directors.name = 'Steven Spielberg'\n",
        "\"\"\")\n",
        "top10 = cur.fetchall()\n",
        "print(f'Top 10 : {top10}')"
      ],
      "metadata": {
        "id": "jQmERJIHYGTR",
        "colab": {
          "base_uri": "https://localhost:8080/"
        },
        "outputId": "a9e54eae-e3cd-41d7-f951-57c09e91bef3"
      },
      "execution_count": 103,
      "outputs": [
        {
          "output_type": "stream",
          "name": "stdout",
          "text": [
            "Top 10 : [('Indiana Jones and the Kingdom of the Crystal Skull', '2008-05-21', 185000000, 786636033, 75, 5.7), ('The BFG', '2016-06-01', 140000000, 183345589, 44, 6.0), ('War of the Worlds', '2005-06-28', 132000000, 591739379, 48, 6.2), ('The Adventures of Tintin', '2011-10-25', 130000000, 371940071, 89, 6.7), ('Minority Report', '2002-06-20', 102000000, 358372926, 65, 7.1), ('A.I. Artificial Intelligence', '2001-06-29', 100000000, 235926552, 34, 6.8), ('The Lost World: Jurassic Park', '1997-05-23', 73000000, 229074524, 2, 6.2), ('The Terminal', '2004-06-17', 60000000, 219417255, 57, 7.0), ('Munich', '2005-12-22', 70000000, 130358911, 29, 6.9), ('Hook', '1991-12-11', 70000000, 300854823, 33, 6.6), ('War Horse', '2011-12-25', 66000000, 177584879, 29, 7.0), ('Saving Private Ryan', '1998-07-24', 70000000, 481840909, 76, 7.9), ('Lincoln', '2012-11-09', 65000000, 275293450, 36, 6.7), ('Jurassic Park', '1993-06-11', 63000000, 920100000, 40, 7.6), ('Catch Me If You Can', '2002-12-25', 52000000, 352114312, 73, 7.7), ('Indiana Jones and the Last Crusade', '1989-05-24', 48000000, 474171806, 80, 7.6), ('Bridge of Spies', '2015-10-15', 40000000, 165478348, 48, 7.2), ('Amistad', '1997-12-03', 36000000, 74000000, 3, 6.8), ('1941', '1979-12-13', 35000000, 31755742, 10, 5.6), ('Indiana Jones and the Temple of Doom', '1984-05-23', 28000000, 333000000, 66, 7.1), (\"Schindler's List\", '1993-11-29', 22000000, 321365567, 104, 8.3), ('Raiders of the Lost Ark', '1981-06-12', 18000000, 389925971, 68, 7.7), ('Close Encounters of the Third Kind', '1977-11-16', 20000000, 303788635, 52, 7.2), ('The Color Purple', '1985-12-18', 15000000, 146292009, 17, 7.7), ('Jaws', '1975-06-18', 7000000, 470654000, 50, 7.5), ('E.T. the Extra-Terrestrial', '1982-04-03', 10500000, 792910554, 56, 7.3), ('Twilight Zone: The Movie', '1983-06-24', 10000000, 29450919, 12, 6.2)]\n"
          ]
        }
      ]
    },
    {
      "cell_type": "code",
      "source": [
        "# OR\n",
        "cur.execute(\"\"\"\n",
        "SELECT movies.title, movies.release_date, movies.budget, movies.revenue, movies.popularity, movies.vote_average, directors.name\n",
        "FROM directors\n",
        "JOIN movies ON directors.id = movies.director_id\n",
        "WHERE directors.name = 'Steven Spielberg'\n",
        "\"\"\")\n",
        "top10 = cur.fetchall()\n",
        "print(f'Top 10 : {top10}')"
      ],
      "metadata": {
        "colab": {
          "base_uri": "https://localhost:8080/"
        },
        "id": "YkL6ZBYVhCy5",
        "outputId": "7618af86-8eb9-4f54-ce5a-c2e9975970be"
      },
      "execution_count": 102,
      "outputs": [
        {
          "output_type": "stream",
          "name": "stdout",
          "text": [
            "Top 10 : [('Indiana Jones and the Kingdom of the Crystal Skull', '2008-05-21', 185000000, 786636033, 75, 5.7, 'Steven Spielberg'), ('The BFG', '2016-06-01', 140000000, 183345589, 44, 6.0, 'Steven Spielberg'), ('War of the Worlds', '2005-06-28', 132000000, 591739379, 48, 6.2, 'Steven Spielberg'), ('The Adventures of Tintin', '2011-10-25', 130000000, 371940071, 89, 6.7, 'Steven Spielberg'), ('Minority Report', '2002-06-20', 102000000, 358372926, 65, 7.1, 'Steven Spielberg'), ('A.I. Artificial Intelligence', '2001-06-29', 100000000, 235926552, 34, 6.8, 'Steven Spielberg'), ('The Lost World: Jurassic Park', '1997-05-23', 73000000, 229074524, 2, 6.2, 'Steven Spielberg'), ('The Terminal', '2004-06-17', 60000000, 219417255, 57, 7.0, 'Steven Spielberg'), ('Munich', '2005-12-22', 70000000, 130358911, 29, 6.9, 'Steven Spielberg'), ('Hook', '1991-12-11', 70000000, 300854823, 33, 6.6, 'Steven Spielberg'), ('War Horse', '2011-12-25', 66000000, 177584879, 29, 7.0, 'Steven Spielberg'), ('Saving Private Ryan', '1998-07-24', 70000000, 481840909, 76, 7.9, 'Steven Spielberg'), ('Lincoln', '2012-11-09', 65000000, 275293450, 36, 6.7, 'Steven Spielberg'), ('Jurassic Park', '1993-06-11', 63000000, 920100000, 40, 7.6, 'Steven Spielberg'), ('Catch Me If You Can', '2002-12-25', 52000000, 352114312, 73, 7.7, 'Steven Spielberg'), ('Indiana Jones and the Last Crusade', '1989-05-24', 48000000, 474171806, 80, 7.6, 'Steven Spielberg'), ('Bridge of Spies', '2015-10-15', 40000000, 165478348, 48, 7.2, 'Steven Spielberg'), ('Amistad', '1997-12-03', 36000000, 74000000, 3, 6.8, 'Steven Spielberg'), ('1941', '1979-12-13', 35000000, 31755742, 10, 5.6, 'Steven Spielberg'), ('Indiana Jones and the Temple of Doom', '1984-05-23', 28000000, 333000000, 66, 7.1, 'Steven Spielberg'), (\"Schindler's List\", '1993-11-29', 22000000, 321365567, 104, 8.3, 'Steven Spielberg'), ('Raiders of the Lost Ark', '1981-06-12', 18000000, 389925971, 68, 7.7, 'Steven Spielberg'), ('Close Encounters of the Third Kind', '1977-11-16', 20000000, 303788635, 52, 7.2, 'Steven Spielberg'), ('The Color Purple', '1985-12-18', 15000000, 146292009, 17, 7.7, 'Steven Spielberg'), ('Jaws', '1975-06-18', 7000000, 470654000, 50, 7.5, 'Steven Spielberg'), ('E.T. the Extra-Terrestrial', '1982-04-03', 10500000, 792910554, 56, 7.3, 'Steven Spielberg'), ('Twilight Zone: The Movie', '1983-06-24', 10000000, 29450919, 12, 6.2, 'Steven Spielberg')]\n"
          ]
        }
      ]
    },
    {
      "cell_type": "markdown",
      "source": [
        "# Most Important thing to do ->\n",
        "* JOIN\n",
        "* ORDER BY, GROUP BY\n",
        "* SUBQUERY"
      ],
      "metadata": {
        "id": "y2tNoL7p7qSY"
      }
    }
  ]
}